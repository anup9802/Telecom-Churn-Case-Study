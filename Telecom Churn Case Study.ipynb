{
 "cells": [
  {
   "cell_type": "markdown",
   "metadata": {},
   "source": [
    "## Telecom Churn Case Study by Anup Rana"
   ]
  },
  {
   "cell_type": "code",
   "execution_count": 50,
   "metadata": {},
   "outputs": [],
   "source": [
    "import numpy as np\n",
    "import pandas as pd\n",
    "import matplotlib.pyplot as plt\n",
    "import seaborn as sns\n",
    "\n",
    "from sklearn.preprocessing import StandardScaler\n",
    "\n",
    "#for PCA\n",
    "from sklearn.decomposition import PCA\n",
    "from sklearn.decomposition import IncrementalPCA\n",
    "\n",
    "from sklearn.linear_model import ElasticNet, Lasso,  BayesianRidge, LassoLarsIC\n",
    "from sklearn.ensemble import RandomForestRegressor,  GradientBoostingRegressor\n",
    "from sklearn.kernel_ridge import KernelRidge\n",
    "from sklearn.pipeline import make_pipeline\n",
    "from sklearn.preprocessing import RobustScaler\n",
    "from sklearn.base import BaseEstimator, TransformerMixin, RegressorMixin, clone\n",
    "from sklearn.model_selection import KFold, cross_val_score, train_test_split\n",
    "from sklearn.metrics import mean_squared_error\n",
    "import xgboost as xgb\n",
    "#import lightgbm as lgb\n",
    "\n",
    "from sklearn.metrics import r2_score\n",
    "\n",
    "from sklearn.linear_model import Ridge\n",
    "from sklearn.linear_model import Lasso\n",
    "from sklearn.linear_model import LogisticRegression\n",
    "from sklearn.model_selection import GridSearchCV\n",
    "\n",
    "\n",
    "from sklearn.tree import DecisionTreeClassifier\n",
    "from sklearn.ensemble import RandomForestClassifier\n",
    "from sklearn.model_selection import RandomizedSearchCV\n",
    "\n",
    "from sklearn.ensemble import AdaBoostClassifier\n",
    "from sklearn.ensemble import GradientBoostingClassifier\n",
    "from sklearn import metrics\n",
    "\n",
    "from sklearn import svm \n",
    "\n",
    "import xgboost as xgb\n",
    "from xgboost import XGBClassifier\n",
    "from xgboost import plot_importance\n",
    "import gc # for deleting unused variables\n",
    "\n",
    "from sklearn.metrics import confusion_matrix\n",
    "from sklearn.metrics import classification_report, confusion_matrix, accuracy_score\n",
    "from sklearn.metrics import roc_curve, auc\n",
    "\n",
    "# Suppressing Warnings\n",
    "import warnings\n",
    "warnings.filterwarnings('ignore')"
   ]
  },
  {
   "cell_type": "code",
   "execution_count": 52,
   "metadata": {},
   "outputs": [
    {
     "name": "stdout",
     "output_type": "stream",
     "text": [
      "shape of the dataframe df: (99999, 226)\n"
     ]
    }
   ],
   "source": [
    "df = pd.read_csv('telecom_churn_data.csv') # reading the csv file\n",
    "print('shape of the dataframe df:', df.shape)"
   ]
  },
  {
   "cell_type": "code",
   "execution_count": 54,
   "metadata": {
    "scrolled": true
   },
   "outputs": [
    {
     "data": {
      "text/html": [
       "<div>\n",
       "<style scoped>\n",
       "    .dataframe tbody tr th:only-of-type {\n",
       "        vertical-align: middle;\n",
       "    }\n",
       "\n",
       "    .dataframe tbody tr th {\n",
       "        vertical-align: top;\n",
       "    }\n",
       "\n",
       "    .dataframe thead th {\n",
       "        text-align: right;\n",
       "    }\n",
       "</style>\n",
       "<table border=\"1\" class=\"dataframe\">\n",
       "  <thead>\n",
       "    <tr style=\"text-align: right;\">\n",
       "      <th></th>\n",
       "      <th>mobile_number</th>\n",
       "      <th>circle_id</th>\n",
       "      <th>loc_og_t2o_mou</th>\n",
       "      <th>std_og_t2o_mou</th>\n",
       "      <th>loc_ic_t2o_mou</th>\n",
       "      <th>last_date_of_month_6</th>\n",
       "      <th>last_date_of_month_7</th>\n",
       "      <th>last_date_of_month_8</th>\n",
       "      <th>last_date_of_month_9</th>\n",
       "      <th>arpu_6</th>\n",
       "      <th>...</th>\n",
       "      <th>sachet_3g_9</th>\n",
       "      <th>fb_user_6</th>\n",
       "      <th>fb_user_7</th>\n",
       "      <th>fb_user_8</th>\n",
       "      <th>fb_user_9</th>\n",
       "      <th>aon</th>\n",
       "      <th>aug_vbc_3g</th>\n",
       "      <th>jul_vbc_3g</th>\n",
       "      <th>jun_vbc_3g</th>\n",
       "      <th>sep_vbc_3g</th>\n",
       "    </tr>\n",
       "  </thead>\n",
       "  <tbody>\n",
       "    <tr>\n",
       "      <th>0</th>\n",
       "      <td>7000842753</td>\n",
       "      <td>109</td>\n",
       "      <td>0.0</td>\n",
       "      <td>0.0</td>\n",
       "      <td>0.0</td>\n",
       "      <td>6/30/2014</td>\n",
       "      <td>7/31/2014</td>\n",
       "      <td>8/31/2014</td>\n",
       "      <td>9/30/2014</td>\n",
       "      <td>197.385</td>\n",
       "      <td>...</td>\n",
       "      <td>0</td>\n",
       "      <td>1.0</td>\n",
       "      <td>1.0</td>\n",
       "      <td>1.0</td>\n",
       "      <td>NaN</td>\n",
       "      <td>968</td>\n",
       "      <td>30.4</td>\n",
       "      <td>0.0</td>\n",
       "      <td>101.20</td>\n",
       "      <td>3.58</td>\n",
       "    </tr>\n",
       "    <tr>\n",
       "      <th>1</th>\n",
       "      <td>7001865778</td>\n",
       "      <td>109</td>\n",
       "      <td>0.0</td>\n",
       "      <td>0.0</td>\n",
       "      <td>0.0</td>\n",
       "      <td>6/30/2014</td>\n",
       "      <td>7/31/2014</td>\n",
       "      <td>8/31/2014</td>\n",
       "      <td>9/30/2014</td>\n",
       "      <td>34.047</td>\n",
       "      <td>...</td>\n",
       "      <td>0</td>\n",
       "      <td>NaN</td>\n",
       "      <td>1.0</td>\n",
       "      <td>1.0</td>\n",
       "      <td>NaN</td>\n",
       "      <td>1006</td>\n",
       "      <td>0.0</td>\n",
       "      <td>0.0</td>\n",
       "      <td>0.00</td>\n",
       "      <td>0.00</td>\n",
       "    </tr>\n",
       "    <tr>\n",
       "      <th>2</th>\n",
       "      <td>7001625959</td>\n",
       "      <td>109</td>\n",
       "      <td>0.0</td>\n",
       "      <td>0.0</td>\n",
       "      <td>0.0</td>\n",
       "      <td>6/30/2014</td>\n",
       "      <td>7/31/2014</td>\n",
       "      <td>8/31/2014</td>\n",
       "      <td>9/30/2014</td>\n",
       "      <td>167.690</td>\n",
       "      <td>...</td>\n",
       "      <td>0</td>\n",
       "      <td>NaN</td>\n",
       "      <td>NaN</td>\n",
       "      <td>NaN</td>\n",
       "      <td>1.0</td>\n",
       "      <td>1103</td>\n",
       "      <td>0.0</td>\n",
       "      <td>0.0</td>\n",
       "      <td>4.17</td>\n",
       "      <td>0.00</td>\n",
       "    </tr>\n",
       "  </tbody>\n",
       "</table>\n",
       "<p>3 rows × 226 columns</p>\n",
       "</div>"
      ],
      "text/plain": [
       "   mobile_number  circle_id  loc_og_t2o_mou  std_og_t2o_mou  loc_ic_t2o_mou  \\\n",
       "0     7000842753        109             0.0             0.0             0.0   \n",
       "1     7001865778        109             0.0             0.0             0.0   \n",
       "2     7001625959        109             0.0             0.0             0.0   \n",
       "\n",
       "  last_date_of_month_6 last_date_of_month_7 last_date_of_month_8  \\\n",
       "0            6/30/2014            7/31/2014            8/31/2014   \n",
       "1            6/30/2014            7/31/2014            8/31/2014   \n",
       "2            6/30/2014            7/31/2014            8/31/2014   \n",
       "\n",
       "  last_date_of_month_9   arpu_6     ...      sachet_3g_9  fb_user_6  \\\n",
       "0            9/30/2014  197.385     ...                0        1.0   \n",
       "1            9/30/2014   34.047     ...                0        NaN   \n",
       "2            9/30/2014  167.690     ...                0        NaN   \n",
       "\n",
       "   fb_user_7  fb_user_8  fb_user_9   aon  aug_vbc_3g  jul_vbc_3g  jun_vbc_3g  \\\n",
       "0        1.0        1.0        NaN   968        30.4         0.0      101.20   \n",
       "1        1.0        1.0        NaN  1006         0.0         0.0        0.00   \n",
       "2        NaN        NaN        1.0  1103         0.0         0.0        4.17   \n",
       "\n",
       "   sep_vbc_3g  \n",
       "0        3.58  \n",
       "1        0.00  \n",
       "2        0.00  \n",
       "\n",
       "[3 rows x 226 columns]"
      ]
     },
     "execution_count": 54,
     "metadata": {},
     "output_type": "execute_result"
    }
   ],
   "source": [
    "#Let's have a quick look at the data\n",
    "df.head(3)"
   ]
  },
  {
   "cell_type": "code",
   "execution_count": 56,
   "metadata": {},
   "outputs": [
    {
     "name": "stdout",
     "output_type": "stream",
     "text": [
      "['mobile_number', 'circle_id', 'loc_og_t2o_mou', 'std_og_t2o_mou', 'loc_ic_t2o_mou', 'last_date_of_month_6', 'last_date_of_month_7', 'last_date_of_month_8', 'last_date_of_month_9', 'arpu_6', 'arpu_7', 'arpu_8', 'arpu_9', 'onnet_mou_6', 'onnet_mou_7', 'onnet_mou_8', 'onnet_mou_9', 'offnet_mou_6', 'offnet_mou_7', 'offnet_mou_8', 'offnet_mou_9', 'roam_ic_mou_6', 'roam_ic_mou_7', 'roam_ic_mou_8', 'roam_ic_mou_9', 'roam_og_mou_6', 'roam_og_mou_7', 'roam_og_mou_8', 'roam_og_mou_9', 'loc_og_t2t_mou_6', 'loc_og_t2t_mou_7', 'loc_og_t2t_mou_8', 'loc_og_t2t_mou_9', 'loc_og_t2m_mou_6', 'loc_og_t2m_mou_7', 'loc_og_t2m_mou_8', 'loc_og_t2m_mou_9', 'loc_og_t2f_mou_6', 'loc_og_t2f_mou_7', 'loc_og_t2f_mou_8', 'loc_og_t2f_mou_9', 'loc_og_t2c_mou_6', 'loc_og_t2c_mou_7', 'loc_og_t2c_mou_8', 'loc_og_t2c_mou_9', 'loc_og_mou_6', 'loc_og_mou_7', 'loc_og_mou_8', 'loc_og_mou_9', 'std_og_t2t_mou_6', 'std_og_t2t_mou_7', 'std_og_t2t_mou_8', 'std_og_t2t_mou_9', 'std_og_t2m_mou_6', 'std_og_t2m_mou_7', 'std_og_t2m_mou_8', 'std_og_t2m_mou_9', 'std_og_t2f_mou_6', 'std_og_t2f_mou_7', 'std_og_t2f_mou_8', 'std_og_t2f_mou_9', 'std_og_t2c_mou_6', 'std_og_t2c_mou_7', 'std_og_t2c_mou_8', 'std_og_t2c_mou_9', 'std_og_mou_6', 'std_og_mou_7', 'std_og_mou_8', 'std_og_mou_9', 'isd_og_mou_6', 'isd_og_mou_7', 'isd_og_mou_8', 'isd_og_mou_9', 'spl_og_mou_6', 'spl_og_mou_7', 'spl_og_mou_8', 'spl_og_mou_9', 'og_others_6', 'og_others_7', 'og_others_8', 'og_others_9', 'total_og_mou_6', 'total_og_mou_7', 'total_og_mou_8', 'total_og_mou_9', 'loc_ic_t2t_mou_6', 'loc_ic_t2t_mou_7', 'loc_ic_t2t_mou_8', 'loc_ic_t2t_mou_9', 'loc_ic_t2m_mou_6', 'loc_ic_t2m_mou_7', 'loc_ic_t2m_mou_8', 'loc_ic_t2m_mou_9', 'loc_ic_t2f_mou_6', 'loc_ic_t2f_mou_7', 'loc_ic_t2f_mou_8', 'loc_ic_t2f_mou_9', 'loc_ic_mou_6', 'loc_ic_mou_7', 'loc_ic_mou_8', 'loc_ic_mou_9', 'std_ic_t2t_mou_6', 'std_ic_t2t_mou_7', 'std_ic_t2t_mou_8', 'std_ic_t2t_mou_9', 'std_ic_t2m_mou_6', 'std_ic_t2m_mou_7', 'std_ic_t2m_mou_8', 'std_ic_t2m_mou_9', 'std_ic_t2f_mou_6', 'std_ic_t2f_mou_7', 'std_ic_t2f_mou_8', 'std_ic_t2f_mou_9', 'std_ic_t2o_mou_6', 'std_ic_t2o_mou_7', 'std_ic_t2o_mou_8', 'std_ic_t2o_mou_9', 'std_ic_mou_6', 'std_ic_mou_7', 'std_ic_mou_8', 'std_ic_mou_9', 'total_ic_mou_6', 'total_ic_mou_7', 'total_ic_mou_8', 'total_ic_mou_9', 'spl_ic_mou_6', 'spl_ic_mou_7', 'spl_ic_mou_8', 'spl_ic_mou_9', 'isd_ic_mou_6', 'isd_ic_mou_7', 'isd_ic_mou_8', 'isd_ic_mou_9', 'ic_others_6', 'ic_others_7', 'ic_others_8', 'ic_others_9', 'total_rech_num_6', 'total_rech_num_7', 'total_rech_num_8', 'total_rech_num_9', 'total_rech_amt_6', 'total_rech_amt_7', 'total_rech_amt_8', 'total_rech_amt_9', 'max_rech_amt_6', 'max_rech_amt_7', 'max_rech_amt_8', 'max_rech_amt_9', 'date_of_last_rech_6', 'date_of_last_rech_7', 'date_of_last_rech_8', 'date_of_last_rech_9', 'last_day_rch_amt_6', 'last_day_rch_amt_7', 'last_day_rch_amt_8', 'last_day_rch_amt_9', 'date_of_last_rech_data_6', 'date_of_last_rech_data_7', 'date_of_last_rech_data_8', 'date_of_last_rech_data_9', 'total_rech_data_6', 'total_rech_data_7', 'total_rech_data_8', 'total_rech_data_9', 'max_rech_data_6', 'max_rech_data_7', 'max_rech_data_8', 'max_rech_data_9', 'count_rech_2g_6', 'count_rech_2g_7', 'count_rech_2g_8', 'count_rech_2g_9', 'count_rech_3g_6', 'count_rech_3g_7', 'count_rech_3g_8', 'count_rech_3g_9', 'av_rech_amt_data_6', 'av_rech_amt_data_7', 'av_rech_amt_data_8', 'av_rech_amt_data_9', 'vol_2g_mb_6', 'vol_2g_mb_7', 'vol_2g_mb_8', 'vol_2g_mb_9', 'vol_3g_mb_6', 'vol_3g_mb_7', 'vol_3g_mb_8', 'vol_3g_mb_9', 'arpu_3g_6', 'arpu_3g_7', 'arpu_3g_8', 'arpu_3g_9', 'arpu_2g_6', 'arpu_2g_7', 'arpu_2g_8', 'arpu_2g_9', 'night_pck_user_6', 'night_pck_user_7', 'night_pck_user_8', 'night_pck_user_9', 'monthly_2g_6', 'monthly_2g_7', 'monthly_2g_8', 'monthly_2g_9', 'sachet_2g_6', 'sachet_2g_7', 'sachet_2g_8', 'sachet_2g_9', 'monthly_3g_6', 'monthly_3g_7', 'monthly_3g_8', 'monthly_3g_9', 'sachet_3g_6', 'sachet_3g_7', 'sachet_3g_8', 'sachet_3g_9', 'fb_user_6', 'fb_user_7', 'fb_user_8', 'fb_user_9', 'aon', 'aug_vbc_3g', 'jul_vbc_3g', 'jun_vbc_3g', 'sep_vbc_3g']\n"
     ]
    }
   ],
   "source": [
    "#List of columns in the dataframe df\n",
    "print(list(df))"
   ]
  },
  {
   "cell_type": "code",
   "execution_count": 58,
   "metadata": {},
   "outputs": [
    {
     "data": {
      "text/plain": [
       "0"
      ]
     },
     "execution_count": 58,
     "metadata": {},
     "output_type": "execute_result"
    }
   ],
   "source": [
    "#Checking for duplicate rows\n",
    "sum(df.duplicated(subset = 'mobile_number'))"
   ]
  },
  {
   "cell_type": "code",
   "execution_count": 60,
   "metadata": {},
   "outputs": [
    {
     "data": {
      "text/html": [
       "<div>\n",
       "<style scoped>\n",
       "    .dataframe tbody tr th:only-of-type {\n",
       "        vertical-align: middle;\n",
       "    }\n",
       "\n",
       "    .dataframe tbody tr th {\n",
       "        vertical-align: top;\n",
       "    }\n",
       "\n",
       "    .dataframe thead th {\n",
       "        text-align: right;\n",
       "    }\n",
       "</style>\n",
       "<table border=\"1\" class=\"dataframe\">\n",
       "  <thead>\n",
       "    <tr style=\"text-align: right;\">\n",
       "      <th></th>\n",
       "      <th>mobile_number</th>\n",
       "      <th>circle_id</th>\n",
       "      <th>loc_og_t2o_mou</th>\n",
       "      <th>std_og_t2o_mou</th>\n",
       "      <th>loc_ic_t2o_mou</th>\n",
       "      <th>arpu_6</th>\n",
       "      <th>arpu_7</th>\n",
       "      <th>arpu_8</th>\n",
       "      <th>arpu_9</th>\n",
       "      <th>onnet_mou_6</th>\n",
       "      <th>...</th>\n",
       "      <th>fb_user_6</th>\n",
       "      <th>fb_user_7</th>\n",
       "      <th>fb_user_8</th>\n",
       "      <th>fb_user_9</th>\n",
       "      <th>aon</th>\n",
       "      <th>aug_vbc_3g</th>\n",
       "      <th>jul_vbc_3g</th>\n",
       "      <th>jun_vbc_3g</th>\n",
       "      <th>sep_vbc_3g</th>\n",
       "      <th>total_rech_avg_amt_good</th>\n",
       "    </tr>\n",
       "  </thead>\n",
       "  <tbody>\n",
       "    <tr>\n",
       "      <th>count</th>\n",
       "      <td>9.999900e+04</td>\n",
       "      <td>99999.0</td>\n",
       "      <td>98981.0</td>\n",
       "      <td>98981.0</td>\n",
       "      <td>98981.0</td>\n",
       "      <td>99999.000000</td>\n",
       "      <td>99999.000000</td>\n",
       "      <td>99999.000000</td>\n",
       "      <td>99999.000000</td>\n",
       "      <td>96062.000000</td>\n",
       "      <td>...</td>\n",
       "      <td>25153.000000</td>\n",
       "      <td>25571.000000</td>\n",
       "      <td>26339.000000</td>\n",
       "      <td>25922.000000</td>\n",
       "      <td>99999.000000</td>\n",
       "      <td>99999.000000</td>\n",
       "      <td>99999.000000</td>\n",
       "      <td>99999.000000</td>\n",
       "      <td>99999.000000</td>\n",
       "      <td>99999.000000</td>\n",
       "    </tr>\n",
       "    <tr>\n",
       "      <th>mean</th>\n",
       "      <td>7.001207e+09</td>\n",
       "      <td>109.0</td>\n",
       "      <td>0.0</td>\n",
       "      <td>0.0</td>\n",
       "      <td>0.0</td>\n",
       "      <td>282.987358</td>\n",
       "      <td>278.536648</td>\n",
       "      <td>279.154731</td>\n",
       "      <td>261.645069</td>\n",
       "      <td>132.395875</td>\n",
       "      <td>...</td>\n",
       "      <td>0.914404</td>\n",
       "      <td>0.908764</td>\n",
       "      <td>0.890808</td>\n",
       "      <td>0.860968</td>\n",
       "      <td>1219.854749</td>\n",
       "      <td>68.170248</td>\n",
       "      <td>66.839062</td>\n",
       "      <td>60.021204</td>\n",
       "      <td>3.299373</td>\n",
       "      <td>325.238792</td>\n",
       "    </tr>\n",
       "    <tr>\n",
       "      <th>std</th>\n",
       "      <td>6.956694e+05</td>\n",
       "      <td>0.0</td>\n",
       "      <td>0.0</td>\n",
       "      <td>0.0</td>\n",
       "      <td>0.0</td>\n",
       "      <td>328.439770</td>\n",
       "      <td>338.156291</td>\n",
       "      <td>344.474791</td>\n",
       "      <td>341.998630</td>\n",
       "      <td>297.207406</td>\n",
       "      <td>...</td>\n",
       "      <td>0.279772</td>\n",
       "      <td>0.287950</td>\n",
       "      <td>0.311885</td>\n",
       "      <td>0.345987</td>\n",
       "      <td>954.733842</td>\n",
       "      <td>267.580450</td>\n",
       "      <td>271.201856</td>\n",
       "      <td>253.938223</td>\n",
       "      <td>32.408353</td>\n",
       "      <td>370.833466</td>\n",
       "    </tr>\n",
       "    <tr>\n",
       "      <th>min</th>\n",
       "      <td>7.000000e+09</td>\n",
       "      <td>109.0</td>\n",
       "      <td>0.0</td>\n",
       "      <td>0.0</td>\n",
       "      <td>0.0</td>\n",
       "      <td>-2258.709000</td>\n",
       "      <td>-2014.045000</td>\n",
       "      <td>-945.808000</td>\n",
       "      <td>-1899.505000</td>\n",
       "      <td>0.000000</td>\n",
       "      <td>...</td>\n",
       "      <td>0.000000</td>\n",
       "      <td>0.000000</td>\n",
       "      <td>0.000000</td>\n",
       "      <td>0.000000</td>\n",
       "      <td>180.000000</td>\n",
       "      <td>0.000000</td>\n",
       "      <td>0.000000</td>\n",
       "      <td>0.000000</td>\n",
       "      <td>0.000000</td>\n",
       "      <td>0.000000</td>\n",
       "    </tr>\n",
       "    <tr>\n",
       "      <th>25%</th>\n",
       "      <td>7.000606e+09</td>\n",
       "      <td>109.0</td>\n",
       "      <td>0.0</td>\n",
       "      <td>0.0</td>\n",
       "      <td>0.0</td>\n",
       "      <td>93.411500</td>\n",
       "      <td>86.980500</td>\n",
       "      <td>84.126000</td>\n",
       "      <td>62.685000</td>\n",
       "      <td>7.380000</td>\n",
       "      <td>...</td>\n",
       "      <td>1.000000</td>\n",
       "      <td>1.000000</td>\n",
       "      <td>1.000000</td>\n",
       "      <td>1.000000</td>\n",
       "      <td>467.000000</td>\n",
       "      <td>0.000000</td>\n",
       "      <td>0.000000</td>\n",
       "      <td>0.000000</td>\n",
       "      <td>0.000000</td>\n",
       "      <td>115.000000</td>\n",
       "    </tr>\n",
       "    <tr>\n",
       "      <th>50%</th>\n",
       "      <td>7.001205e+09</td>\n",
       "      <td>109.0</td>\n",
       "      <td>0.0</td>\n",
       "      <td>0.0</td>\n",
       "      <td>0.0</td>\n",
       "      <td>197.704000</td>\n",
       "      <td>191.640000</td>\n",
       "      <td>192.080000</td>\n",
       "      <td>176.849000</td>\n",
       "      <td>34.310000</td>\n",
       "      <td>...</td>\n",
       "      <td>1.000000</td>\n",
       "      <td>1.000000</td>\n",
       "      <td>1.000000</td>\n",
       "      <td>1.000000</td>\n",
       "      <td>863.000000</td>\n",
       "      <td>0.000000</td>\n",
       "      <td>0.000000</td>\n",
       "      <td>0.000000</td>\n",
       "      <td>0.000000</td>\n",
       "      <td>229.000000</td>\n",
       "    </tr>\n",
       "    <tr>\n",
       "      <th>75%</th>\n",
       "      <td>7.001812e+09</td>\n",
       "      <td>109.0</td>\n",
       "      <td>0.0</td>\n",
       "      <td>0.0</td>\n",
       "      <td>0.0</td>\n",
       "      <td>371.060000</td>\n",
       "      <td>365.344500</td>\n",
       "      <td>369.370500</td>\n",
       "      <td>353.466500</td>\n",
       "      <td>118.740000</td>\n",
       "      <td>...</td>\n",
       "      <td>1.000000</td>\n",
       "      <td>1.000000</td>\n",
       "      <td>1.000000</td>\n",
       "      <td>1.000000</td>\n",
       "      <td>1807.500000</td>\n",
       "      <td>0.000000</td>\n",
       "      <td>0.000000</td>\n",
       "      <td>0.000000</td>\n",
       "      <td>0.000000</td>\n",
       "      <td>419.000000</td>\n",
       "    </tr>\n",
       "    <tr>\n",
       "      <th>max</th>\n",
       "      <td>7.002411e+09</td>\n",
       "      <td>109.0</td>\n",
       "      <td>0.0</td>\n",
       "      <td>0.0</td>\n",
       "      <td>0.0</td>\n",
       "      <td>27731.088000</td>\n",
       "      <td>35145.834000</td>\n",
       "      <td>33543.624000</td>\n",
       "      <td>38805.617000</td>\n",
       "      <td>7376.710000</td>\n",
       "      <td>...</td>\n",
       "      <td>1.000000</td>\n",
       "      <td>1.000000</td>\n",
       "      <td>1.000000</td>\n",
       "      <td>1.000000</td>\n",
       "      <td>4337.000000</td>\n",
       "      <td>12916.220000</td>\n",
       "      <td>9165.600000</td>\n",
       "      <td>11166.210000</td>\n",
       "      <td>2618.570000</td>\n",
       "      <td>37762.500000</td>\n",
       "    </tr>\n",
       "  </tbody>\n",
       "</table>\n",
       "<p>8 rows × 215 columns</p>\n",
       "</div>"
      ],
      "text/plain": [
       "       mobile_number  circle_id  loc_og_t2o_mou  std_og_t2o_mou  \\\n",
       "count   9.999900e+04    99999.0         98981.0         98981.0   \n",
       "mean    7.001207e+09      109.0             0.0             0.0   \n",
       "std     6.956694e+05        0.0             0.0             0.0   \n",
       "min     7.000000e+09      109.0             0.0             0.0   \n",
       "25%     7.000606e+09      109.0             0.0             0.0   \n",
       "50%     7.001205e+09      109.0             0.0             0.0   \n",
       "75%     7.001812e+09      109.0             0.0             0.0   \n",
       "max     7.002411e+09      109.0             0.0             0.0   \n",
       "\n",
       "       loc_ic_t2o_mou        arpu_6        arpu_7        arpu_8        arpu_9  \\\n",
       "count         98981.0  99999.000000  99999.000000  99999.000000  99999.000000   \n",
       "mean              0.0    282.987358    278.536648    279.154731    261.645069   \n",
       "std               0.0    328.439770    338.156291    344.474791    341.998630   \n",
       "min               0.0  -2258.709000  -2014.045000   -945.808000  -1899.505000   \n",
       "25%               0.0     93.411500     86.980500     84.126000     62.685000   \n",
       "50%               0.0    197.704000    191.640000    192.080000    176.849000   \n",
       "75%               0.0    371.060000    365.344500    369.370500    353.466500   \n",
       "max               0.0  27731.088000  35145.834000  33543.624000  38805.617000   \n",
       "\n",
       "        onnet_mou_6           ...                fb_user_6     fb_user_7  \\\n",
       "count  96062.000000           ...             25153.000000  25571.000000   \n",
       "mean     132.395875           ...                 0.914404      0.908764   \n",
       "std      297.207406           ...                 0.279772      0.287950   \n",
       "min        0.000000           ...                 0.000000      0.000000   \n",
       "25%        7.380000           ...                 1.000000      1.000000   \n",
       "50%       34.310000           ...                 1.000000      1.000000   \n",
       "75%      118.740000           ...                 1.000000      1.000000   \n",
       "max     7376.710000           ...                 1.000000      1.000000   \n",
       "\n",
       "          fb_user_8     fb_user_9           aon    aug_vbc_3g    jul_vbc_3g  \\\n",
       "count  26339.000000  25922.000000  99999.000000  99999.000000  99999.000000   \n",
       "mean       0.890808      0.860968   1219.854749     68.170248     66.839062   \n",
       "std        0.311885      0.345987    954.733842    267.580450    271.201856   \n",
       "min        0.000000      0.000000    180.000000      0.000000      0.000000   \n",
       "25%        1.000000      1.000000    467.000000      0.000000      0.000000   \n",
       "50%        1.000000      1.000000    863.000000      0.000000      0.000000   \n",
       "75%        1.000000      1.000000   1807.500000      0.000000      0.000000   \n",
       "max        1.000000      1.000000   4337.000000  12916.220000   9165.600000   \n",
       "\n",
       "         jun_vbc_3g    sep_vbc_3g  total_rech_avg_amt_good  \n",
       "count  99999.000000  99999.000000             99999.000000  \n",
       "mean      60.021204      3.299373               325.238792  \n",
       "std      253.938223     32.408353               370.833466  \n",
       "min        0.000000      0.000000                 0.000000  \n",
       "25%        0.000000      0.000000               115.000000  \n",
       "50%        0.000000      0.000000               229.000000  \n",
       "75%        0.000000      0.000000               419.000000  \n",
       "max    11166.210000   2618.570000             37762.500000  \n",
       "\n",
       "[8 rows x 215 columns]"
      ]
     },
     "execution_count": 60,
     "metadata": {},
     "output_type": "execute_result"
    }
   ],
   "source": [
    "#Let's have some statistical insight\n",
    "df.describe()"
   ]
  },
  {
   "cell_type": "markdown",
   "metadata": {},
   "source": [
    "### Definitions of Churn:\n",
    "There are various ways to define churn, such as:\n",
    "\n",
    "Revenue-based churn: Customers who have not utilised any revenue-generating facilities such as mobile internet, outgoing calls, SMS etc. over a given period of time. One could also use aggregate metrics such as ‘customers who have generated less than INR 4 per month in total/average/median revenue’.\n",
    "\n",
    "The main shortcoming of this definition is that there are customers who only receive calls/SMSes from their wage-earning counterparts, i.e. they don’t generate revenue but use the services. For example, many users in rural areas only receive calls from their wage-earning siblings in urban areas.\n",
    "##### Usage-based churn: Customers who have not done any usage, either incoming or outgoing - in terms of calls, internet etc. over a period of time. A potential shortcoming of this definition is that when the customer has stopped using the services for a while, it may be too late to take any corrective actions to retain them. For e.g., if you define churn based on a ‘two-months zero usage’ period, predicting churn could be useless since by that time the customer would have already switched to another operator.\n",
    "#### This project demands usage-based definition to define churn"
   ]
  },
  {
   "cell_type": "markdown",
   "metadata": {},
   "source": [
    "### Understanding Customer Behaviour During Churn\n",
    "Customers usually do not decide to switch to another competitor instantly, but rather over a period of time (this is especially applicable to high-value customers). In churn prediction, we assume that there are three phases of customer lifecycle :\n",
    "\n",
    "The ‘good’ phase: In this phase, the customer is happy with the service and behaves as usual.\n",
    "\n",
    "The ‘action’ phase: The customer experience starts to sore in this phase, for e.g. he/she gets a compelling offer from a  competitor, faces unjust charges, becomes unhappy with service quality etc. In this phase, the customer usually shows different behaviour than the ‘good’ months. Also, it is crucial to identify high-churn-risk customers in this phase, since some corrective actions can be taken at this point (such as matching the competitor’s offer/improving the service quality etc.)\n",
    "\n",
    "The ‘churn’ phase: In this phase, the customer is said to have churned. You define churn based on this phase. Also, it is important to note that at the time of prediction (i.e. the action months), this data is not available to you for prediction. Thus, after tagging churn as 1/0 based on this phase, you discard all data corresponding to this phase.\n",
    "\n",
    "In this case, since we are working over a four-month window, the first two months are the ‘good’ phase, the third month is the ‘action’ phase, while the fourth month is the ‘churn’ phase."
   ]
  },
  {
   "cell_type": "markdown",
   "metadata": {},
   "source": [
    "### High-value Churn\n",
    "In the Indian and the southeast Asian market, approximately 80% of revenue comes from the top 20% customers (called high-value customers). Thus, if we can reduce churn of the high-value customers, we will be able to reduce significant revenue leakage.\n",
    "\n",
    "In this project, you will define high-value customers based on a certain metric (mentioned later below) and predict churn only on high-value customers.\n",
    "#### As per the problem statement the high-value customers shoud be defined as: \n",
    "Those who have recharged with an amount more than or equal to X, where X is the 70th percentile of the average recharge amount in the first two months (the good phase)."
   ]
  },
  {
   "cell_type": "code",
   "execution_count": 62,
   "metadata": {
    "scrolled": true
   },
   "outputs": [
    {
     "name": "stdout",
     "output_type": "stream",
     "text": [
      "['total_rech_num_6', 'total_rech_num_7', 'total_rech_num_8', 'total_rech_num_9', 'total_rech_amt_6', 'total_rech_amt_7', 'total_rech_amt_8', 'total_rech_amt_9', 'max_rech_amt_6', 'max_rech_amt_7', 'max_rech_amt_8', 'max_rech_amt_9', 'date_of_last_rech_6', 'date_of_last_rech_7', 'date_of_last_rech_8', 'date_of_last_rech_9', 'date_of_last_rech_data_6', 'date_of_last_rech_data_7', 'date_of_last_rech_data_8', 'date_of_last_rech_data_9', 'total_rech_data_6', 'total_rech_data_7', 'total_rech_data_8', 'total_rech_data_9', 'max_rech_data_6', 'max_rech_data_7', 'max_rech_data_8', 'max_rech_data_9', 'count_rech_2g_6', 'count_rech_2g_7', 'count_rech_2g_8', 'count_rech_2g_9', 'count_rech_3g_6', 'count_rech_3g_7', 'count_rech_3g_8', 'count_rech_3g_9', 'av_rech_amt_data_6', 'av_rech_amt_data_7', 'av_rech_amt_data_8', 'av_rech_amt_data_9', 'total_rech_avg_amt_good']\n"
     ]
    }
   ],
   "source": [
    "#Let's identify columns for recharge ('rech')\n",
    "list_rech = [x for x in list(df) if 'rech' in x]\n",
    "print(list_rech)"
   ]
  },
  {
   "cell_type": "markdown",
   "metadata": {},
   "source": [
    "### Data Preprocessing and Derived Features"
   ]
  },
  {
   "cell_type": "markdown",
   "metadata": {},
   "source": [
    "So, the high value customers should be defined based on 'total_rech_amt_6' and 'total_rech_amt_7'"
   ]
  },
  {
   "cell_type": "code",
   "execution_count": 64,
   "metadata": {},
   "outputs": [
    {
     "data": {
      "text/plain": [
       "(99999, 225)"
      ]
     },
     "execution_count": 64,
     "metadata": {},
     "output_type": "execute_result"
    }
   ],
   "source": [
    "#So, let's add the above two columns up to generate the total recharge amount in 'good' phase\n",
    "df['total_rech_avg_amt_good'] = (df['total_rech_amt_6'] + df['total_rech_amt_7'])/2\n",
    "df_dropped = df.copy()\n",
    "df_dropped = df_dropped.drop(axis = 1, columns = ['total_rech_amt_6', 'total_rech_amt_7']) #we already have the information stored in the 'total_rech_avg_amt_good' column. So, let's drop the original columns\n",
    "df_dropped.shape"
   ]
  },
  {
   "cell_type": "code",
   "execution_count": 66,
   "metadata": {},
   "outputs": [
    {
     "data": {
      "text/plain": [
       "(29979, 225)"
      ]
     },
     "execution_count": 66,
     "metadata": {},
     "output_type": "execute_result"
    }
   ],
   "source": [
    "#As per the problem statement, the high value customers are the ones with recharge amount higher than the 70th percentile\n",
    "df_high = df_dropped[(df_dropped['total_rech_avg_amt_good'] > df_dropped['total_rech_avg_amt_good'].quantile(0.7))]\n",
    "df_high.shape"
   ]
  },
  {
   "cell_type": "code",
   "execution_count": 68,
   "metadata": {},
   "outputs": [
    {
     "data": {
      "text/plain": [
       "(29979, 227)"
      ]
     },
     "execution_count": 68,
     "metadata": {},
     "output_type": "execute_result"
    }
   ],
   "source": [
    "#As per the problem statement the churn should be defined based on usage data\n",
    "df_high['total_usage'] = df_high['total_og_mou_9'] + df_high['total_ic_mou_9'] + df_high['vol_2g_mb_9'] + df_high['vol_3g_mb_9']\n",
    "\n",
    "df_high['churn'] = np.where(df_high['total_usage']== 0, 1, 0)\n",
    "df_high.shape"
   ]
  },
  {
   "cell_type": "code",
   "execution_count": 69,
   "metadata": {},
   "outputs": [
    {
     "data": {
      "text/plain": [
       "0    27390\n",
       "1     2589\n",
       "Name: churn, dtype: int64"
      ]
     },
     "execution_count": 69,
     "metadata": {},
     "output_type": "execute_result"
    }
   ],
   "source": [
    "df_high['churn'].value_counts()"
   ]
  },
  {
   "cell_type": "code",
   "execution_count": 70,
   "metadata": {},
   "outputs": [
    {
     "name": "stdout",
     "output_type": "stream",
     "text": [
      "churn rate: 8.636045231662164\n"
     ]
    }
   ],
   "source": [
    "#Calculating the churn rate\n",
    "print('churn rate:', df_high['churn'].sum()*100/len(df_high['churn']))"
   ]
  },
  {
   "cell_type": "markdown",
   "metadata": {},
   "source": [
    "Note: The Churn rate is really low. So, our dataset is imbalanced"
   ]
  },
  {
   "cell_type": "code",
   "execution_count": 71,
   "metadata": {},
   "outputs": [
    {
     "data": {
      "text/plain": [
       "(29979, 226)"
      ]
     },
     "execution_count": 71,
     "metadata": {},
     "output_type": "execute_result"
    }
   ],
   "source": [
    "#As we have already generated the 'churn' column, the 'total_usage' is of no use, Let's drop it\n",
    "df_high.drop('total_usage', axis = 1, inplace = True)\n",
    "df_high.shape"
   ]
  },
  {
   "cell_type": "code",
   "execution_count": 72,
   "metadata": {},
   "outputs": [
    {
     "data": {
      "text/plain": [
       "(29979, 171)"
      ]
     },
     "execution_count": 72,
     "metadata": {},
     "output_type": "execute_result"
    }
   ],
   "source": [
    "#Another important thing is that all the columns corresponding to 9 (september) is not relevent for us now.\n",
    "#Because we want to predict the 'churn' of 9 based on the data from 6 and 7\n",
    "#So, let's drop the other columns for the month of 9\n",
    "cols_sep = [x for x in list(df) if '_9' in x or 'sep' in x or 'Sep' in x or 'September' in x or 'september' in x]\n",
    "df_high = df_high.drop(cols_sep, axis = 1)\n",
    "df_high.shape"
   ]
  },
  {
   "cell_type": "code",
   "execution_count": 73,
   "metadata": {},
   "outputs": [
    {
     "name": "stdout",
     "output_type": "stream",
     "text": [
      "['circle_id', 'loc_og_t2o_mou', 'std_og_t2o_mou', 'loc_ic_t2o_mou', 'last_date_of_month_6', 'last_date_of_month_7', 'last_date_of_month_8', 'std_og_t2c_mou_6', 'std_og_t2c_mou_7', 'std_og_t2c_mou_8', 'std_ic_t2o_mou_6', 'std_ic_t2o_mou_7', 'std_ic_t2o_mou_8']\n"
     ]
    }
   ],
   "source": [
    "#getting the coulmns with only one unique value\n",
    "cols_to_remove = []\n",
    "for i in list(df_high):\n",
    "    if len(df_high[i].value_counts()) == 1:\n",
    "        cols_to_remove.append(i)\n",
    "print(cols_to_remove)"
   ]
  },
  {
   "cell_type": "code",
   "execution_count": 74,
   "metadata": {},
   "outputs": [
    {
     "data": {
      "text/plain": [
       "(29979, 158)"
      ]
     },
     "execution_count": 74,
     "metadata": {},
     "output_type": "execute_result"
    }
   ],
   "source": [
    "#So, above columns should not have any predictive power and we can drop them\n",
    "df_high = df_high.drop(cols_to_remove, axis = 1)\n",
    "df_high.shape"
   ]
  },
  {
   "cell_type": "code",
   "execution_count": 75,
   "metadata": {
    "scrolled": true
   },
   "outputs": [
    {
     "data": {
      "text/html": [
       "<div>\n",
       "<style scoped>\n",
       "    .dataframe tbody tr th:only-of-type {\n",
       "        vertical-align: middle;\n",
       "    }\n",
       "\n",
       "    .dataframe tbody tr th {\n",
       "        vertical-align: top;\n",
       "    }\n",
       "\n",
       "    .dataframe thead th {\n",
       "        text-align: right;\n",
       "    }\n",
       "</style>\n",
       "<table border=\"1\" class=\"dataframe\">\n",
       "  <thead>\n",
       "    <tr style=\"text-align: right;\">\n",
       "      <th></th>\n",
       "      <th>columns</th>\n",
       "      <th>% null</th>\n",
       "    </tr>\n",
       "  </thead>\n",
       "  <tbody>\n",
       "    <tr>\n",
       "      <th>4</th>\n",
       "      <td>onnet_mou_6</td>\n",
       "      <td>1.054071</td>\n",
       "    </tr>\n",
       "    <tr>\n",
       "      <th>5</th>\n",
       "      <td>onnet_mou_7</td>\n",
       "      <td>1.010707</td>\n",
       "    </tr>\n",
       "    <tr>\n",
       "      <th>6</th>\n",
       "      <td>onnet_mou_8</td>\n",
       "      <td>3.128857</td>\n",
       "    </tr>\n",
       "    <tr>\n",
       "      <th>7</th>\n",
       "      <td>offnet_mou_6</td>\n",
       "      <td>1.054071</td>\n",
       "    </tr>\n",
       "    <tr>\n",
       "      <th>8</th>\n",
       "      <td>offnet_mou_7</td>\n",
       "      <td>1.010707</td>\n",
       "    </tr>\n",
       "    <tr>\n",
       "      <th>9</th>\n",
       "      <td>offnet_mou_8</td>\n",
       "      <td>3.128857</td>\n",
       "    </tr>\n",
       "    <tr>\n",
       "      <th>10</th>\n",
       "      <td>roam_ic_mou_6</td>\n",
       "      <td>1.054071</td>\n",
       "    </tr>\n",
       "    <tr>\n",
       "      <th>11</th>\n",
       "      <td>roam_ic_mou_7</td>\n",
       "      <td>1.010707</td>\n",
       "    </tr>\n",
       "    <tr>\n",
       "      <th>12</th>\n",
       "      <td>roam_ic_mou_8</td>\n",
       "      <td>3.128857</td>\n",
       "    </tr>\n",
       "    <tr>\n",
       "      <th>13</th>\n",
       "      <td>roam_og_mou_6</td>\n",
       "      <td>1.054071</td>\n",
       "    </tr>\n",
       "    <tr>\n",
       "      <th>14</th>\n",
       "      <td>roam_og_mou_7</td>\n",
       "      <td>1.010707</td>\n",
       "    </tr>\n",
       "    <tr>\n",
       "      <th>15</th>\n",
       "      <td>roam_og_mou_8</td>\n",
       "      <td>3.128857</td>\n",
       "    </tr>\n",
       "    <tr>\n",
       "      <th>16</th>\n",
       "      <td>loc_og_t2t_mou_6</td>\n",
       "      <td>1.054071</td>\n",
       "    </tr>\n",
       "    <tr>\n",
       "      <th>17</th>\n",
       "      <td>loc_og_t2t_mou_7</td>\n",
       "      <td>1.010707</td>\n",
       "    </tr>\n",
       "    <tr>\n",
       "      <th>18</th>\n",
       "      <td>loc_og_t2t_mou_8</td>\n",
       "      <td>3.128857</td>\n",
       "    </tr>\n",
       "    <tr>\n",
       "      <th>19</th>\n",
       "      <td>loc_og_t2m_mou_6</td>\n",
       "      <td>1.054071</td>\n",
       "    </tr>\n",
       "    <tr>\n",
       "      <th>20</th>\n",
       "      <td>loc_og_t2m_mou_7</td>\n",
       "      <td>1.010707</td>\n",
       "    </tr>\n",
       "    <tr>\n",
       "      <th>21</th>\n",
       "      <td>loc_og_t2m_mou_8</td>\n",
       "      <td>3.128857</td>\n",
       "    </tr>\n",
       "    <tr>\n",
       "      <th>22</th>\n",
       "      <td>loc_og_t2f_mou_6</td>\n",
       "      <td>1.054071</td>\n",
       "    </tr>\n",
       "    <tr>\n",
       "      <th>23</th>\n",
       "      <td>loc_og_t2f_mou_7</td>\n",
       "      <td>1.010707</td>\n",
       "    </tr>\n",
       "    <tr>\n",
       "      <th>24</th>\n",
       "      <td>loc_og_t2f_mou_8</td>\n",
       "      <td>3.128857</td>\n",
       "    </tr>\n",
       "    <tr>\n",
       "      <th>25</th>\n",
       "      <td>loc_og_t2c_mou_6</td>\n",
       "      <td>1.054071</td>\n",
       "    </tr>\n",
       "    <tr>\n",
       "      <th>26</th>\n",
       "      <td>loc_og_t2c_mou_7</td>\n",
       "      <td>1.010707</td>\n",
       "    </tr>\n",
       "    <tr>\n",
       "      <th>27</th>\n",
       "      <td>loc_og_t2c_mou_8</td>\n",
       "      <td>3.128857</td>\n",
       "    </tr>\n",
       "    <tr>\n",
       "      <th>28</th>\n",
       "      <td>loc_og_mou_6</td>\n",
       "      <td>1.054071</td>\n",
       "    </tr>\n",
       "    <tr>\n",
       "      <th>29</th>\n",
       "      <td>loc_og_mou_7</td>\n",
       "      <td>1.010707</td>\n",
       "    </tr>\n",
       "    <tr>\n",
       "      <th>30</th>\n",
       "      <td>loc_og_mou_8</td>\n",
       "      <td>3.128857</td>\n",
       "    </tr>\n",
       "    <tr>\n",
       "      <th>31</th>\n",
       "      <td>std_og_t2t_mou_6</td>\n",
       "      <td>1.054071</td>\n",
       "    </tr>\n",
       "    <tr>\n",
       "      <th>32</th>\n",
       "      <td>std_og_t2t_mou_7</td>\n",
       "      <td>1.010707</td>\n",
       "    </tr>\n",
       "    <tr>\n",
       "      <th>33</th>\n",
       "      <td>std_og_t2t_mou_8</td>\n",
       "      <td>3.128857</td>\n",
       "    </tr>\n",
       "    <tr>\n",
       "      <th>...</th>\n",
       "      <td>...</td>\n",
       "      <td>...</td>\n",
       "    </tr>\n",
       "    <tr>\n",
       "      <th>104</th>\n",
       "      <td>date_of_last_rech_data_6</td>\n",
       "      <td>62.016745</td>\n",
       "    </tr>\n",
       "    <tr>\n",
       "      <th>105</th>\n",
       "      <td>date_of_last_rech_data_7</td>\n",
       "      <td>61.132793</td>\n",
       "    </tr>\n",
       "    <tr>\n",
       "      <th>106</th>\n",
       "      <td>date_of_last_rech_data_8</td>\n",
       "      <td>60.835918</td>\n",
       "    </tr>\n",
       "    <tr>\n",
       "      <th>107</th>\n",
       "      <td>total_rech_data_6</td>\n",
       "      <td>62.016745</td>\n",
       "    </tr>\n",
       "    <tr>\n",
       "      <th>108</th>\n",
       "      <td>total_rech_data_7</td>\n",
       "      <td>61.132793</td>\n",
       "    </tr>\n",
       "    <tr>\n",
       "      <th>109</th>\n",
       "      <td>total_rech_data_8</td>\n",
       "      <td>60.835918</td>\n",
       "    </tr>\n",
       "    <tr>\n",
       "      <th>110</th>\n",
       "      <td>max_rech_data_6</td>\n",
       "      <td>62.016745</td>\n",
       "    </tr>\n",
       "    <tr>\n",
       "      <th>111</th>\n",
       "      <td>max_rech_data_7</td>\n",
       "      <td>61.132793</td>\n",
       "    </tr>\n",
       "    <tr>\n",
       "      <th>112</th>\n",
       "      <td>max_rech_data_8</td>\n",
       "      <td>60.835918</td>\n",
       "    </tr>\n",
       "    <tr>\n",
       "      <th>113</th>\n",
       "      <td>count_rech_2g_6</td>\n",
       "      <td>62.016745</td>\n",
       "    </tr>\n",
       "    <tr>\n",
       "      <th>114</th>\n",
       "      <td>count_rech_2g_7</td>\n",
       "      <td>61.132793</td>\n",
       "    </tr>\n",
       "    <tr>\n",
       "      <th>115</th>\n",
       "      <td>count_rech_2g_8</td>\n",
       "      <td>60.835918</td>\n",
       "    </tr>\n",
       "    <tr>\n",
       "      <th>116</th>\n",
       "      <td>count_rech_3g_6</td>\n",
       "      <td>62.016745</td>\n",
       "    </tr>\n",
       "    <tr>\n",
       "      <th>117</th>\n",
       "      <td>count_rech_3g_7</td>\n",
       "      <td>61.132793</td>\n",
       "    </tr>\n",
       "    <tr>\n",
       "      <th>118</th>\n",
       "      <td>count_rech_3g_8</td>\n",
       "      <td>60.835918</td>\n",
       "    </tr>\n",
       "    <tr>\n",
       "      <th>119</th>\n",
       "      <td>av_rech_amt_data_6</td>\n",
       "      <td>62.016745</td>\n",
       "    </tr>\n",
       "    <tr>\n",
       "      <th>120</th>\n",
       "      <td>av_rech_amt_data_7</td>\n",
       "      <td>61.132793</td>\n",
       "    </tr>\n",
       "    <tr>\n",
       "      <th>121</th>\n",
       "      <td>av_rech_amt_data_8</td>\n",
       "      <td>60.835918</td>\n",
       "    </tr>\n",
       "    <tr>\n",
       "      <th>128</th>\n",
       "      <td>arpu_3g_6</td>\n",
       "      <td>62.016745</td>\n",
       "    </tr>\n",
       "    <tr>\n",
       "      <th>129</th>\n",
       "      <td>arpu_3g_7</td>\n",
       "      <td>61.132793</td>\n",
       "    </tr>\n",
       "    <tr>\n",
       "      <th>130</th>\n",
       "      <td>arpu_3g_8</td>\n",
       "      <td>60.835918</td>\n",
       "    </tr>\n",
       "    <tr>\n",
       "      <th>131</th>\n",
       "      <td>arpu_2g_6</td>\n",
       "      <td>62.016745</td>\n",
       "    </tr>\n",
       "    <tr>\n",
       "      <th>132</th>\n",
       "      <td>arpu_2g_7</td>\n",
       "      <td>61.132793</td>\n",
       "    </tr>\n",
       "    <tr>\n",
       "      <th>133</th>\n",
       "      <td>arpu_2g_8</td>\n",
       "      <td>60.835918</td>\n",
       "    </tr>\n",
       "    <tr>\n",
       "      <th>134</th>\n",
       "      <td>night_pck_user_6</td>\n",
       "      <td>62.016745</td>\n",
       "    </tr>\n",
       "    <tr>\n",
       "      <th>135</th>\n",
       "      <td>night_pck_user_7</td>\n",
       "      <td>61.132793</td>\n",
       "    </tr>\n",
       "    <tr>\n",
       "      <th>136</th>\n",
       "      <td>night_pck_user_8</td>\n",
       "      <td>60.835918</td>\n",
       "    </tr>\n",
       "    <tr>\n",
       "      <th>149</th>\n",
       "      <td>fb_user_6</td>\n",
       "      <td>62.016745</td>\n",
       "    </tr>\n",
       "    <tr>\n",
       "      <th>150</th>\n",
       "      <td>fb_user_7</td>\n",
       "      <td>61.132793</td>\n",
       "    </tr>\n",
       "    <tr>\n",
       "      <th>151</th>\n",
       "      <td>fb_user_8</td>\n",
       "      <td>60.835918</td>\n",
       "    </tr>\n",
       "  </tbody>\n",
       "</table>\n",
       "<p>114 rows × 2 columns</p>\n",
       "</div>"
      ],
      "text/plain": [
       "                      columns     % null\n",
       "4                 onnet_mou_6   1.054071\n",
       "5                 onnet_mou_7   1.010707\n",
       "6                 onnet_mou_8   3.128857\n",
       "7                offnet_mou_6   1.054071\n",
       "8                offnet_mou_7   1.010707\n",
       "9                offnet_mou_8   3.128857\n",
       "10              roam_ic_mou_6   1.054071\n",
       "11              roam_ic_mou_7   1.010707\n",
       "12              roam_ic_mou_8   3.128857\n",
       "13              roam_og_mou_6   1.054071\n",
       "14              roam_og_mou_7   1.010707\n",
       "15              roam_og_mou_8   3.128857\n",
       "16           loc_og_t2t_mou_6   1.054071\n",
       "17           loc_og_t2t_mou_7   1.010707\n",
       "18           loc_og_t2t_mou_8   3.128857\n",
       "19           loc_og_t2m_mou_6   1.054071\n",
       "20           loc_og_t2m_mou_7   1.010707\n",
       "21           loc_og_t2m_mou_8   3.128857\n",
       "22           loc_og_t2f_mou_6   1.054071\n",
       "23           loc_og_t2f_mou_7   1.010707\n",
       "24           loc_og_t2f_mou_8   3.128857\n",
       "25           loc_og_t2c_mou_6   1.054071\n",
       "26           loc_og_t2c_mou_7   1.010707\n",
       "27           loc_og_t2c_mou_8   3.128857\n",
       "28               loc_og_mou_6   1.054071\n",
       "29               loc_og_mou_7   1.010707\n",
       "30               loc_og_mou_8   3.128857\n",
       "31           std_og_t2t_mou_6   1.054071\n",
       "32           std_og_t2t_mou_7   1.010707\n",
       "33           std_og_t2t_mou_8   3.128857\n",
       "..                        ...        ...\n",
       "104  date_of_last_rech_data_6  62.016745\n",
       "105  date_of_last_rech_data_7  61.132793\n",
       "106  date_of_last_rech_data_8  60.835918\n",
       "107         total_rech_data_6  62.016745\n",
       "108         total_rech_data_7  61.132793\n",
       "109         total_rech_data_8  60.835918\n",
       "110           max_rech_data_6  62.016745\n",
       "111           max_rech_data_7  61.132793\n",
       "112           max_rech_data_8  60.835918\n",
       "113           count_rech_2g_6  62.016745\n",
       "114           count_rech_2g_7  61.132793\n",
       "115           count_rech_2g_8  60.835918\n",
       "116           count_rech_3g_6  62.016745\n",
       "117           count_rech_3g_7  61.132793\n",
       "118           count_rech_3g_8  60.835918\n",
       "119        av_rech_amt_data_6  62.016745\n",
       "120        av_rech_amt_data_7  61.132793\n",
       "121        av_rech_amt_data_8  60.835918\n",
       "128                 arpu_3g_6  62.016745\n",
       "129                 arpu_3g_7  61.132793\n",
       "130                 arpu_3g_8  60.835918\n",
       "131                 arpu_2g_6  62.016745\n",
       "132                 arpu_2g_7  61.132793\n",
       "133                 arpu_2g_8  60.835918\n",
       "134          night_pck_user_6  62.016745\n",
       "135          night_pck_user_7  61.132793\n",
       "136          night_pck_user_8  60.835918\n",
       "149                 fb_user_6  62.016745\n",
       "150                 fb_user_7  61.132793\n",
       "151                 fb_user_8  60.835918\n",
       "\n",
       "[114 rows x 2 columns]"
      ]
     },
     "execution_count": 75,
     "metadata": {},
     "output_type": "execute_result"
    }
   ],
   "source": [
    "#percentage of null values (non zero) in differend columns\n",
    "col_list = list(df_high)\n",
    "null = []\n",
    "for i in df_high.isnull().sum()*100/df_high.shape[0]:\n",
    "    null.append(i)\n",
    "data = {'columns': col_list, '% null': null}\n",
    "df_null = pd.DataFrame(data)\n",
    "df_null[df_null['% null'] != 0]"
   ]
  },
  {
   "cell_type": "markdown",
   "metadata": {},
   "source": [
    "So, there are 114 columns having null values"
   ]
  },
  {
   "cell_type": "code",
   "execution_count": 76,
   "metadata": {
    "scrolled": true
   },
   "outputs": [
    {
     "data": {
      "text/plain": [
       "(30, 2)"
      ]
     },
     "execution_count": 76,
     "metadata": {},
     "output_type": "execute_result"
    }
   ],
   "source": [
    "#Let's check the columns with very large number (>= 50%) of null values\n",
    "col_list = list(df_high)\n",
    "null = []\n",
    "for i in df_high.isnull().sum()*100/df_high.shape[0]:\n",
    "    null.append(i)\n",
    "data = {'columns': col_list, '% null': null}\n",
    "df_null = pd.DataFrame(data)\n",
    "df_null[df_null['% null'] >= 50].shape"
   ]
  },
  {
   "cell_type": "markdown",
   "metadata": {},
   "source": [
    "So there are 30 columns with very high null values"
   ]
  },
  {
   "cell_type": "code",
   "execution_count": 77,
   "metadata": {},
   "outputs": [
    {
     "name": "stdout",
     "output_type": "stream",
     "text": [
      "[0.017, 0.016, -0.028, -0.008, -0.004, -0.047, 0.009, 0.007, -0.021, 0.018, 0.019, -0.022, -0.012, -0.014, -0.057, 0.017, 0.006, -0.031, 0.021, 0.012, -0.028, 0.014, 0.007, -0.001, -0.021, -0.013, -0.084]\n"
     ]
    }
   ],
   "source": [
    "#Let's check how relevent these 30 columns are\n",
    "correlation = []\n",
    "\n",
    "lst = list(df_null[df_null['% null'] >= 50]['columns'])\n",
    "\n",
    "NonNumCols = []\n",
    "NumCols = []\n",
    "\n",
    "for col in list(df_high[lst]):\n",
    "    if df_high[lst][col].dtypes == 'object':\n",
    "        NonNumCols.append(col)  \n",
    "    else:\n",
    "        NumCols.append(col)\n",
    "        \n",
    "for i in NumCols:\n",
    "    corr = round(list(df_high[['churn', i]].corr()[i])[0], 3)\n",
    "    correlation.append(corr)\n",
    "\n",
    "print(correlation)"
   ]
  },
  {
   "cell_type": "markdown",
   "metadata": {},
   "source": [
    "Note: Almost there is no correlation between these 30 columns and churn"
   ]
  },
  {
   "cell_type": "code",
   "execution_count": 78,
   "metadata": {},
   "outputs": [
    {
     "data": {
      "text/plain": [
       "(29979, 131)"
      ]
     },
     "execution_count": 78,
     "metadata": {},
     "output_type": "execute_result"
    }
   ],
   "source": [
    "#Looks like that all the numerical columns with very high (>= 50%) null values are not of much importance for our model building.\n",
    "#So, we can drop these columns\n",
    "df_high = df_high.drop(NumCols, axis = 1)\n",
    "df_high.shape"
   ]
  },
  {
   "cell_type": "code",
   "execution_count": 79,
   "metadata": {},
   "outputs": [
    {
     "data": {
      "text/plain": [
       "['date_of_last_rech_data_6',\n",
       " 'date_of_last_rech_data_7',\n",
       " 'date_of_last_rech_data_8']"
      ]
     },
     "execution_count": 79,
     "metadata": {},
     "output_type": "execute_result"
    }
   ],
   "source": [
    "NonNumCols"
   ]
  },
  {
   "cell_type": "code",
   "execution_count": 80,
   "metadata": {},
   "outputs": [],
   "source": [
    "#imputing the missing values with the mod\n",
    "for i in NonNumCols:\n",
    "    df_high[i].fillna(df_high[i].mode()[0], inplace=True)"
   ]
  },
  {
   "cell_type": "code",
   "execution_count": 81,
   "metadata": {},
   "outputs": [
    {
     "name": "stdout",
     "output_type": "stream",
     "text": [
      "['date_of_last_rech_6', 'date_of_last_rech_7', 'date_of_last_rech_8', 'date_of_last_rech_data_6', 'date_of_last_rech_data_7', 'date_of_last_rech_data_8']\n"
     ]
    }
   ],
   "source": [
    "#List of columns related to 'date'\n",
    "cols_date = [x for x in list(df_high) if 'date' in x]\n",
    "print(cols_date)"
   ]
  },
  {
   "cell_type": "code",
   "execution_count": 82,
   "metadata": {},
   "outputs": [],
   "source": [
    "#Extracting day from the date\n",
    "for i in cols_date:\n",
    "    df_high[i] = pd.to_datetime(df_high[i]).dt.day"
   ]
  },
  {
   "cell_type": "code",
   "execution_count": 83,
   "metadata": {},
   "outputs": [],
   "source": [
    "#imputing with median value\n",
    "col_null = df_high.columns[df_high.isnull().sum() > 0]\n",
    "for i in col_null:\n",
    "    df_high[i].fillna((df_high[i].median()), inplace=True)"
   ]
  },
  {
   "cell_type": "code",
   "execution_count": 84,
   "metadata": {},
   "outputs": [
    {
     "data": {
      "text/html": [
       "<div>\n",
       "<style scoped>\n",
       "    .dataframe tbody tr th:only-of-type {\n",
       "        vertical-align: middle;\n",
       "    }\n",
       "\n",
       "    .dataframe tbody tr th {\n",
       "        vertical-align: top;\n",
       "    }\n",
       "\n",
       "    .dataframe thead th {\n",
       "        text-align: right;\n",
       "    }\n",
       "</style>\n",
       "<table border=\"1\" class=\"dataframe\">\n",
       "  <thead>\n",
       "    <tr style=\"text-align: right;\">\n",
       "      <th></th>\n",
       "      <th>columns</th>\n",
       "      <th>% null</th>\n",
       "    </tr>\n",
       "  </thead>\n",
       "  <tbody>\n",
       "  </tbody>\n",
       "</table>\n",
       "</div>"
      ],
      "text/plain": [
       "Empty DataFrame\n",
       "Columns: [columns, % null]\n",
       "Index: []"
      ]
     },
     "execution_count": 84,
     "metadata": {},
     "output_type": "execute_result"
    }
   ],
   "source": [
    "#Checking whether imputation is complete or not\n",
    "col_list = list(df_high)\n",
    "null = []\n",
    "for i in df_high.isnull().sum()*100/df_high.shape[0]:\n",
    "    null.append(i)\n",
    "data = {'columns': col_list, '% null': null}\n",
    "df_null = pd.DataFrame(data)\n",
    "df_null[df_null['% null'] != 0]"
   ]
  },
  {
   "cell_type": "markdown",
   "metadata": {},
   "source": [
    "So, there is no null value now"
   ]
  },
  {
   "cell_type": "code",
   "execution_count": 85,
   "metadata": {},
   "outputs": [
    {
     "data": {
      "text/html": [
       "<div>\n",
       "<style scoped>\n",
       "    .dataframe tbody tr th:only-of-type {\n",
       "        vertical-align: middle;\n",
       "    }\n",
       "\n",
       "    .dataframe tbody tr th {\n",
       "        vertical-align: top;\n",
       "    }\n",
       "\n",
       "    .dataframe thead th {\n",
       "        text-align: right;\n",
       "    }\n",
       "</style>\n",
       "<table border=\"1\" class=\"dataframe\">\n",
       "  <thead>\n",
       "    <tr style=\"text-align: right;\">\n",
       "      <th></th>\n",
       "      <th>mobile_number</th>\n",
       "      <th>arpu_6</th>\n",
       "      <th>arpu_7</th>\n",
       "      <th>arpu_8</th>\n",
       "      <th>onnet_mou_6</th>\n",
       "      <th>onnet_mou_7</th>\n",
       "      <th>onnet_mou_8</th>\n",
       "      <th>offnet_mou_6</th>\n",
       "      <th>offnet_mou_7</th>\n",
       "      <th>offnet_mou_8</th>\n",
       "      <th>...</th>\n",
       "      <th>monthly_3g_8</th>\n",
       "      <th>sachet_3g_6</th>\n",
       "      <th>sachet_3g_7</th>\n",
       "      <th>sachet_3g_8</th>\n",
       "      <th>aon</th>\n",
       "      <th>aug_vbc_3g</th>\n",
       "      <th>jul_vbc_3g</th>\n",
       "      <th>jun_vbc_3g</th>\n",
       "      <th>total_rech_avg_amt_good</th>\n",
       "      <th>churn</th>\n",
       "    </tr>\n",
       "  </thead>\n",
       "  <tbody>\n",
       "    <tr>\n",
       "      <th>7</th>\n",
       "      <td>7000701601</td>\n",
       "      <td>1069.180</td>\n",
       "      <td>1349.850</td>\n",
       "      <td>3171.480</td>\n",
       "      <td>57.84</td>\n",
       "      <td>54.68</td>\n",
       "      <td>52.29</td>\n",
       "      <td>453.43</td>\n",
       "      <td>567.16</td>\n",
       "      <td>325.91</td>\n",
       "      <td>...</td>\n",
       "      <td>0</td>\n",
       "      <td>0</td>\n",
       "      <td>0</td>\n",
       "      <td>0</td>\n",
       "      <td>802</td>\n",
       "      <td>57.74</td>\n",
       "      <td>19.38</td>\n",
       "      <td>18.74</td>\n",
       "      <td>1185.0</td>\n",
       "      <td>1</td>\n",
       "    </tr>\n",
       "    <tr>\n",
       "      <th>8</th>\n",
       "      <td>7001524846</td>\n",
       "      <td>378.721</td>\n",
       "      <td>492.223</td>\n",
       "      <td>137.362</td>\n",
       "      <td>413.69</td>\n",
       "      <td>351.03</td>\n",
       "      <td>35.08</td>\n",
       "      <td>94.66</td>\n",
       "      <td>80.63</td>\n",
       "      <td>136.48</td>\n",
       "      <td>...</td>\n",
       "      <td>0</td>\n",
       "      <td>0</td>\n",
       "      <td>0</td>\n",
       "      <td>0</td>\n",
       "      <td>315</td>\n",
       "      <td>21.03</td>\n",
       "      <td>910.65</td>\n",
       "      <td>122.16</td>\n",
       "      <td>519.0</td>\n",
       "      <td>0</td>\n",
       "    </tr>\n",
       "    <tr>\n",
       "      <th>13</th>\n",
       "      <td>7002191713</td>\n",
       "      <td>492.846</td>\n",
       "      <td>205.671</td>\n",
       "      <td>593.260</td>\n",
       "      <td>501.76</td>\n",
       "      <td>108.39</td>\n",
       "      <td>534.24</td>\n",
       "      <td>413.31</td>\n",
       "      <td>119.28</td>\n",
       "      <td>482.46</td>\n",
       "      <td>...</td>\n",
       "      <td>0</td>\n",
       "      <td>0</td>\n",
       "      <td>0</td>\n",
       "      <td>0</td>\n",
       "      <td>2607</td>\n",
       "      <td>0.00</td>\n",
       "      <td>0.00</td>\n",
       "      <td>0.00</td>\n",
       "      <td>380.0</td>\n",
       "      <td>0</td>\n",
       "    </tr>\n",
       "  </tbody>\n",
       "</table>\n",
       "<p>3 rows × 131 columns</p>\n",
       "</div>"
      ],
      "text/plain": [
       "    mobile_number    arpu_6    arpu_7    arpu_8  onnet_mou_6  onnet_mou_7  \\\n",
       "7      7000701601  1069.180  1349.850  3171.480        57.84        54.68   \n",
       "8      7001524846   378.721   492.223   137.362       413.69       351.03   \n",
       "13     7002191713   492.846   205.671   593.260       501.76       108.39   \n",
       "\n",
       "    onnet_mou_8  offnet_mou_6  offnet_mou_7  offnet_mou_8  ...    \\\n",
       "7         52.29        453.43        567.16        325.91  ...     \n",
       "8         35.08         94.66         80.63        136.48  ...     \n",
       "13       534.24        413.31        119.28        482.46  ...     \n",
       "\n",
       "    monthly_3g_8  sachet_3g_6  sachet_3g_7  sachet_3g_8   aon  aug_vbc_3g  \\\n",
       "7              0            0            0            0   802       57.74   \n",
       "8              0            0            0            0   315       21.03   \n",
       "13             0            0            0            0  2607        0.00   \n",
       "\n",
       "    jul_vbc_3g  jun_vbc_3g  total_rech_avg_amt_good  churn  \n",
       "7        19.38       18.74                   1185.0      1  \n",
       "8       910.65      122.16                    519.0      0  \n",
       "13        0.00        0.00                    380.0      0  \n",
       "\n",
       "[3 rows x 131 columns]"
      ]
     },
     "execution_count": 85,
     "metadata": {},
     "output_type": "execute_result"
    }
   ],
   "source": [
    "df_high.head(3)"
   ]
  },
  {
   "cell_type": "code",
   "execution_count": 86,
   "metadata": {},
   "outputs": [
    {
     "name": "stdout",
     "output_type": "stream",
     "text": [
      "Number of numerical columns: 131\n",
      "Number of non-numerical columns: 0\n"
     ]
    }
   ],
   "source": [
    "#Checking number of numerical and non-numerical columns\n",
    "NonNumCols = []\n",
    "NumCols = []\n",
    "\n",
    "for col in list(df_high):\n",
    "    if df_high[col].dtypes == 'object':\n",
    "        NonNumCols.append(col)  \n",
    "    else:\n",
    "        NumCols.append(col)\n",
    "        \n",
    "print('Number of numerical columns:' ,len(NumCols))\n",
    "print('Number of non-numerical columns:', len(NonNumCols))"
   ]
  },
  {
   "cell_type": "markdown",
   "metadata": {},
   "source": [
    "### Outlier Treatment"
   ]
  },
  {
   "cell_type": "code",
   "execution_count": 87,
   "metadata": {},
   "outputs": [
    {
     "data": {
      "text/html": [
       "<div>\n",
       "<style scoped>\n",
       "    .dataframe tbody tr th:only-of-type {\n",
       "        vertical-align: middle;\n",
       "    }\n",
       "\n",
       "    .dataframe tbody tr th {\n",
       "        vertical-align: top;\n",
       "    }\n",
       "\n",
       "    .dataframe thead th {\n",
       "        text-align: right;\n",
       "    }\n",
       "</style>\n",
       "<table border=\"1\" class=\"dataframe\">\n",
       "  <thead>\n",
       "    <tr style=\"text-align: right;\">\n",
       "      <th></th>\n",
       "      <th>mobile_number</th>\n",
       "      <th>arpu_6</th>\n",
       "      <th>arpu_7</th>\n",
       "      <th>arpu_8</th>\n",
       "      <th>onnet_mou_6</th>\n",
       "      <th>onnet_mou_7</th>\n",
       "      <th>onnet_mou_8</th>\n",
       "      <th>offnet_mou_6</th>\n",
       "      <th>offnet_mou_7</th>\n",
       "      <th>offnet_mou_8</th>\n",
       "      <th>...</th>\n",
       "      <th>monthly_3g_8</th>\n",
       "      <th>sachet_3g_6</th>\n",
       "      <th>sachet_3g_7</th>\n",
       "      <th>sachet_3g_8</th>\n",
       "      <th>aon</th>\n",
       "      <th>aug_vbc_3g</th>\n",
       "      <th>jul_vbc_3g</th>\n",
       "      <th>jun_vbc_3g</th>\n",
       "      <th>total_rech_avg_amt_good</th>\n",
       "      <th>churn</th>\n",
       "    </tr>\n",
       "  </thead>\n",
       "  <tbody>\n",
       "    <tr>\n",
       "      <th>count</th>\n",
       "      <td>2.997900e+04</td>\n",
       "      <td>29979.000000</td>\n",
       "      <td>29979.000000</td>\n",
       "      <td>29979.000000</td>\n",
       "      <td>29979.000000</td>\n",
       "      <td>29979.000000</td>\n",
       "      <td>29979.000000</td>\n",
       "      <td>29979.000000</td>\n",
       "      <td>29979.000000</td>\n",
       "      <td>29979.000000</td>\n",
       "      <td>...</td>\n",
       "      <td>29979.000000</td>\n",
       "      <td>29979.000000</td>\n",
       "      <td>29979.000000</td>\n",
       "      <td>29979.000000</td>\n",
       "      <td>29979.000000</td>\n",
       "      <td>29979.000000</td>\n",
       "      <td>29979.000000</td>\n",
       "      <td>29979.000000</td>\n",
       "      <td>29979.000000</td>\n",
       "      <td>29979.00000</td>\n",
       "    </tr>\n",
       "    <tr>\n",
       "      <th>mean</th>\n",
       "      <td>7.001223e+09</td>\n",
       "      <td>587.587624</td>\n",
       "      <td>589.424681</td>\n",
       "      <td>535.067748</td>\n",
       "      <td>297.590611</td>\n",
       "      <td>305.886840</td>\n",
       "      <td>271.137938</td>\n",
       "      <td>421.142281</td>\n",
       "      <td>426.990330</td>\n",
       "      <td>383.029940</td>\n",
       "      <td>...</td>\n",
       "      <td>0.173321</td>\n",
       "      <td>0.138063</td>\n",
       "      <td>0.150339</td>\n",
       "      <td>0.140498</td>\n",
       "      <td>1264.158911</td>\n",
       "      <td>129.482436</td>\n",
       "      <td>135.225368</td>\n",
       "      <td>121.450911</td>\n",
       "      <td>697.014644</td>\n",
       "      <td>0.08636</td>\n",
       "    </tr>\n",
       "    <tr>\n",
       "      <th>std</th>\n",
       "      <td>6.846594e+05</td>\n",
       "      <td>442.848876</td>\n",
       "      <td>463.049067</td>\n",
       "      <td>492.447887</td>\n",
       "      <td>460.257092</td>\n",
       "      <td>481.318377</td>\n",
       "      <td>465.205131</td>\n",
       "      <td>468.998414</td>\n",
       "      <td>485.030117</td>\n",
       "      <td>473.464516</td>\n",
       "      <td>...</td>\n",
       "      <td>0.583178</td>\n",
       "      <td>0.875984</td>\n",
       "      <td>0.969779</td>\n",
       "      <td>0.975212</td>\n",
       "      <td>975.181038</td>\n",
       "      <td>390.625027</td>\n",
       "      <td>408.218570</td>\n",
       "      <td>389.910814</td>\n",
       "      <td>488.925223</td>\n",
       "      <td>0.28090</td>\n",
       "    </tr>\n",
       "    <tr>\n",
       "      <th>min</th>\n",
       "      <td>7.000000e+09</td>\n",
       "      <td>-2258.709000</td>\n",
       "      <td>-2014.045000</td>\n",
       "      <td>-945.808000</td>\n",
       "      <td>0.000000</td>\n",
       "      <td>0.000000</td>\n",
       "      <td>0.000000</td>\n",
       "      <td>0.000000</td>\n",
       "      <td>0.000000</td>\n",
       "      <td>0.000000</td>\n",
       "      <td>...</td>\n",
       "      <td>0.000000</td>\n",
       "      <td>0.000000</td>\n",
       "      <td>0.000000</td>\n",
       "      <td>0.000000</td>\n",
       "      <td>180.000000</td>\n",
       "      <td>0.000000</td>\n",
       "      <td>0.000000</td>\n",
       "      <td>0.000000</td>\n",
       "      <td>369.000000</td>\n",
       "      <td>0.00000</td>\n",
       "    </tr>\n",
       "    <tr>\n",
       "      <th>1%</th>\n",
       "      <td>7.000028e+09</td>\n",
       "      <td>18.221200</td>\n",
       "      <td>25.600600</td>\n",
       "      <td>0.000000</td>\n",
       "      <td>0.000000</td>\n",
       "      <td>0.000000</td>\n",
       "      <td>0.000000</td>\n",
       "      <td>1.057800</td>\n",
       "      <td>1.099000</td>\n",
       "      <td>0.000000</td>\n",
       "      <td>...</td>\n",
       "      <td>0.000000</td>\n",
       "      <td>0.000000</td>\n",
       "      <td>0.000000</td>\n",
       "      <td>0.000000</td>\n",
       "      <td>189.000000</td>\n",
       "      <td>0.000000</td>\n",
       "      <td>0.000000</td>\n",
       "      <td>0.000000</td>\n",
       "      <td>371.500000</td>\n",
       "      <td>0.00000</td>\n",
       "    </tr>\n",
       "    <tr>\n",
       "      <th>10%</th>\n",
       "      <td>7.000269e+09</td>\n",
       "      <td>270.692200</td>\n",
       "      <td>274.458200</td>\n",
       "      <td>134.118600</td>\n",
       "      <td>12.230000</td>\n",
       "      <td>11.726000</td>\n",
       "      <td>6.906000</td>\n",
       "      <td>58.606000</td>\n",
       "      <td>59.604000</td>\n",
       "      <td>35.072000</td>\n",
       "      <td>...</td>\n",
       "      <td>0.000000</td>\n",
       "      <td>0.000000</td>\n",
       "      <td>0.000000</td>\n",
       "      <td>0.000000</td>\n",
       "      <td>294.000000</td>\n",
       "      <td>0.000000</td>\n",
       "      <td>0.000000</td>\n",
       "      <td>0.000000</td>\n",
       "      <td>397.000000</td>\n",
       "      <td>0.00000</td>\n",
       "    </tr>\n",
       "    <tr>\n",
       "      <th>25%</th>\n",
       "      <td>7.000641e+09</td>\n",
       "      <td>364.352500</td>\n",
       "      <td>365.235000</td>\n",
       "      <td>289.782000</td>\n",
       "      <td>43.590000</td>\n",
       "      <td>43.370000</td>\n",
       "      <td>34.060000</td>\n",
       "      <td>142.860000</td>\n",
       "      <td>141.280000</td>\n",
       "      <td>111.780000</td>\n",
       "      <td>...</td>\n",
       "      <td>0.000000</td>\n",
       "      <td>0.000000</td>\n",
       "      <td>0.000000</td>\n",
       "      <td>0.000000</td>\n",
       "      <td>480.000000</td>\n",
       "      <td>0.000000</td>\n",
       "      <td>0.000000</td>\n",
       "      <td>0.000000</td>\n",
       "      <td>450.000000</td>\n",
       "      <td>0.00000</td>\n",
       "    </tr>\n",
       "    <tr>\n",
       "      <th>50%</th>\n",
       "      <td>7.001232e+09</td>\n",
       "      <td>495.951000</td>\n",
       "      <td>493.781000</td>\n",
       "      <td>452.232000</td>\n",
       "      <td>128.480000</td>\n",
       "      <td>128.120000</td>\n",
       "      <td>106.390000</td>\n",
       "      <td>285.990000</td>\n",
       "      <td>285.630000</td>\n",
       "      <td>251.530000</td>\n",
       "      <td>...</td>\n",
       "      <td>0.000000</td>\n",
       "      <td>0.000000</td>\n",
       "      <td>0.000000</td>\n",
       "      <td>0.000000</td>\n",
       "      <td>914.000000</td>\n",
       "      <td>0.000000</td>\n",
       "      <td>0.000000</td>\n",
       "      <td>0.000000</td>\n",
       "      <td>569.000000</td>\n",
       "      <td>0.00000</td>\n",
       "    </tr>\n",
       "    <tr>\n",
       "      <th>75%</th>\n",
       "      <td>7.001814e+09</td>\n",
       "      <td>704.184500</td>\n",
       "      <td>700.986000</td>\n",
       "      <td>671.349500</td>\n",
       "      <td>353.500000</td>\n",
       "      <td>360.360000</td>\n",
       "      <td>298.215000</td>\n",
       "      <td>523.625000</td>\n",
       "      <td>532.905000</td>\n",
       "      <td>483.000000</td>\n",
       "      <td>...</td>\n",
       "      <td>0.000000</td>\n",
       "      <td>0.000000</td>\n",
       "      <td>0.000000</td>\n",
       "      <td>0.000000</td>\n",
       "      <td>1923.500000</td>\n",
       "      <td>1.600000</td>\n",
       "      <td>2.025000</td>\n",
       "      <td>0.000000</td>\n",
       "      <td>796.000000</td>\n",
       "      <td>0.00000</td>\n",
       "    </tr>\n",
       "    <tr>\n",
       "      <th>90%</th>\n",
       "      <td>7.002167e+09</td>\n",
       "      <td>994.311800</td>\n",
       "      <td>996.051400</td>\n",
       "      <td>985.499200</td>\n",
       "      <td>795.354000</td>\n",
       "      <td>825.486000</td>\n",
       "      <td>724.182000</td>\n",
       "      <td>916.490000</td>\n",
       "      <td>935.716000</td>\n",
       "      <td>854.006000</td>\n",
       "      <td>...</td>\n",
       "      <td>1.000000</td>\n",
       "      <td>0.000000</td>\n",
       "      <td>0.000000</td>\n",
       "      <td>0.000000</td>\n",
       "      <td>2846.000000</td>\n",
       "      <td>439.100000</td>\n",
       "      <td>455.078000</td>\n",
       "      <td>395.168000</td>\n",
       "      <td>1118.100000</td>\n",
       "      <td>0.00000</td>\n",
       "    </tr>\n",
       "    <tr>\n",
       "      <th>95%</th>\n",
       "      <td>7.002287e+09</td>\n",
       "      <td>1240.976700</td>\n",
       "      <td>1261.848400</td>\n",
       "      <td>1258.703300</td>\n",
       "      <td>1154.900000</td>\n",
       "      <td>1208.691000</td>\n",
       "      <td>1115.857000</td>\n",
       "      <td>1271.757000</td>\n",
       "      <td>1287.221000</td>\n",
       "      <td>1188.523000</td>\n",
       "      <td>...</td>\n",
       "      <td>1.000000</td>\n",
       "      <td>1.000000</td>\n",
       "      <td>1.000000</td>\n",
       "      <td>1.000000</td>\n",
       "      <td>3178.200000</td>\n",
       "      <td>819.257000</td>\n",
       "      <td>845.429000</td>\n",
       "      <td>762.122000</td>\n",
       "      <td>1406.500000</td>\n",
       "      <td>1.00000</td>\n",
       "    </tr>\n",
       "    <tr>\n",
       "      <th>99%</th>\n",
       "      <td>7.002387e+09</td>\n",
       "      <td>1983.590100</td>\n",
       "      <td>1999.509680</td>\n",
       "      <td>1988.082260</td>\n",
       "      <td>2166.876000</td>\n",
       "      <td>2220.577600</td>\n",
       "      <td>2189.445800</td>\n",
       "      <td>2328.192600</td>\n",
       "      <td>2411.004400</td>\n",
       "      <td>2212.303000</td>\n",
       "      <td>...</td>\n",
       "      <td>3.000000</td>\n",
       "      <td>3.000000</td>\n",
       "      <td>3.000000</td>\n",
       "      <td>3.000000</td>\n",
       "      <td>3651.000000</td>\n",
       "      <td>1822.698400</td>\n",
       "      <td>1942.152800</td>\n",
       "      <td>1867.680000</td>\n",
       "      <td>2217.000000</td>\n",
       "      <td>1.00000</td>\n",
       "    </tr>\n",
       "    <tr>\n",
       "      <th>max</th>\n",
       "      <td>7.002411e+09</td>\n",
       "      <td>27731.088000</td>\n",
       "      <td>35145.834000</td>\n",
       "      <td>33543.624000</td>\n",
       "      <td>7376.710000</td>\n",
       "      <td>8157.780000</td>\n",
       "      <td>10752.560000</td>\n",
       "      <td>8362.360000</td>\n",
       "      <td>9667.130000</td>\n",
       "      <td>14007.340000</td>\n",
       "      <td>...</td>\n",
       "      <td>16.000000</td>\n",
       "      <td>29.000000</td>\n",
       "      <td>35.000000</td>\n",
       "      <td>41.000000</td>\n",
       "      <td>4321.000000</td>\n",
       "      <td>12916.220000</td>\n",
       "      <td>9165.600000</td>\n",
       "      <td>11166.210000</td>\n",
       "      <td>37762.500000</td>\n",
       "      <td>1.00000</td>\n",
       "    </tr>\n",
       "  </tbody>\n",
       "</table>\n",
       "<p>13 rows × 131 columns</p>\n",
       "</div>"
      ],
      "text/plain": [
       "       mobile_number        arpu_6        arpu_7        arpu_8   onnet_mou_6  \\\n",
       "count   2.997900e+04  29979.000000  29979.000000  29979.000000  29979.000000   \n",
       "mean    7.001223e+09    587.587624    589.424681    535.067748    297.590611   \n",
       "std     6.846594e+05    442.848876    463.049067    492.447887    460.257092   \n",
       "min     7.000000e+09  -2258.709000  -2014.045000   -945.808000      0.000000   \n",
       "1%      7.000028e+09     18.221200     25.600600      0.000000      0.000000   \n",
       "10%     7.000269e+09    270.692200    274.458200    134.118600     12.230000   \n",
       "25%     7.000641e+09    364.352500    365.235000    289.782000     43.590000   \n",
       "50%     7.001232e+09    495.951000    493.781000    452.232000    128.480000   \n",
       "75%     7.001814e+09    704.184500    700.986000    671.349500    353.500000   \n",
       "90%     7.002167e+09    994.311800    996.051400    985.499200    795.354000   \n",
       "95%     7.002287e+09   1240.976700   1261.848400   1258.703300   1154.900000   \n",
       "99%     7.002387e+09   1983.590100   1999.509680   1988.082260   2166.876000   \n",
       "max     7.002411e+09  27731.088000  35145.834000  33543.624000   7376.710000   \n",
       "\n",
       "        onnet_mou_7   onnet_mou_8  offnet_mou_6  offnet_mou_7  offnet_mou_8  \\\n",
       "count  29979.000000  29979.000000  29979.000000  29979.000000  29979.000000   \n",
       "mean     305.886840    271.137938    421.142281    426.990330    383.029940   \n",
       "std      481.318377    465.205131    468.998414    485.030117    473.464516   \n",
       "min        0.000000      0.000000      0.000000      0.000000      0.000000   \n",
       "1%         0.000000      0.000000      1.057800      1.099000      0.000000   \n",
       "10%       11.726000      6.906000     58.606000     59.604000     35.072000   \n",
       "25%       43.370000     34.060000    142.860000    141.280000    111.780000   \n",
       "50%      128.120000    106.390000    285.990000    285.630000    251.530000   \n",
       "75%      360.360000    298.215000    523.625000    532.905000    483.000000   \n",
       "90%      825.486000    724.182000    916.490000    935.716000    854.006000   \n",
       "95%     1208.691000   1115.857000   1271.757000   1287.221000   1188.523000   \n",
       "99%     2220.577600   2189.445800   2328.192600   2411.004400   2212.303000   \n",
       "max     8157.780000  10752.560000   8362.360000   9667.130000  14007.340000   \n",
       "\n",
       "          ...       monthly_3g_8   sachet_3g_6   sachet_3g_7   sachet_3g_8  \\\n",
       "count     ...       29979.000000  29979.000000  29979.000000  29979.000000   \n",
       "mean      ...           0.173321      0.138063      0.150339      0.140498   \n",
       "std       ...           0.583178      0.875984      0.969779      0.975212   \n",
       "min       ...           0.000000      0.000000      0.000000      0.000000   \n",
       "1%        ...           0.000000      0.000000      0.000000      0.000000   \n",
       "10%       ...           0.000000      0.000000      0.000000      0.000000   \n",
       "25%       ...           0.000000      0.000000      0.000000      0.000000   \n",
       "50%       ...           0.000000      0.000000      0.000000      0.000000   \n",
       "75%       ...           0.000000      0.000000      0.000000      0.000000   \n",
       "90%       ...           1.000000      0.000000      0.000000      0.000000   \n",
       "95%       ...           1.000000      1.000000      1.000000      1.000000   \n",
       "99%       ...           3.000000      3.000000      3.000000      3.000000   \n",
       "max       ...          16.000000     29.000000     35.000000     41.000000   \n",
       "\n",
       "                aon    aug_vbc_3g    jul_vbc_3g    jun_vbc_3g  \\\n",
       "count  29979.000000  29979.000000  29979.000000  29979.000000   \n",
       "mean    1264.158911    129.482436    135.225368    121.450911   \n",
       "std      975.181038    390.625027    408.218570    389.910814   \n",
       "min      180.000000      0.000000      0.000000      0.000000   \n",
       "1%       189.000000      0.000000      0.000000      0.000000   \n",
       "10%      294.000000      0.000000      0.000000      0.000000   \n",
       "25%      480.000000      0.000000      0.000000      0.000000   \n",
       "50%      914.000000      0.000000      0.000000      0.000000   \n",
       "75%     1923.500000      1.600000      2.025000      0.000000   \n",
       "90%     2846.000000    439.100000    455.078000    395.168000   \n",
       "95%     3178.200000    819.257000    845.429000    762.122000   \n",
       "99%     3651.000000   1822.698400   1942.152800   1867.680000   \n",
       "max     4321.000000  12916.220000   9165.600000  11166.210000   \n",
       "\n",
       "       total_rech_avg_amt_good        churn  \n",
       "count             29979.000000  29979.00000  \n",
       "mean                697.014644      0.08636  \n",
       "std                 488.925223      0.28090  \n",
       "min                 369.000000      0.00000  \n",
       "1%                  371.500000      0.00000  \n",
       "10%                 397.000000      0.00000  \n",
       "25%                 450.000000      0.00000  \n",
       "50%                 569.000000      0.00000  \n",
       "75%                 796.000000      0.00000  \n",
       "90%                1118.100000      0.00000  \n",
       "95%                1406.500000      1.00000  \n",
       "99%                2217.000000      1.00000  \n",
       "max               37762.500000      1.00000  \n",
       "\n",
       "[13 rows x 131 columns]"
      ]
     },
     "execution_count": 87,
     "metadata": {},
     "output_type": "execute_result"
    }
   ],
   "source": [
    "df_high.describe(percentiles=[0.01, 0.10, 0.25, 0.50, 0.75, 0.90, 0.95, 0.99])"
   ]
  },
  {
   "cell_type": "markdown",
   "metadata": {},
   "source": [
    "From the statistics above it is clear that we have outliers in the dataset"
   ]
  },
  {
   "cell_type": "code",
   "execution_count": 88,
   "metadata": {},
   "outputs": [
    {
     "data": {
      "text/plain": [
       "(29979, 131)"
      ]
     },
     "execution_count": 88,
     "metadata": {},
     "output_type": "execute_result"
    }
   ],
   "source": [
    "df_high.shape"
   ]
  },
  {
   "cell_type": "code",
   "execution_count": 89,
   "metadata": {},
   "outputs": [],
   "source": [
    "#Removing the entries above 99 percentile and below 1 percentile\n",
    "cols = [col for col in list(df_high) if col not in ['churn','mobile_number']]\n",
    "\n",
    "for col in cols:\n",
    "    ptls = df_high[col].quantile([0.01,0.99]).values\n",
    "    df_high[col][df_high[col] <= ptls[0]] = ptls[0]\n",
    "    df_high[col][df_high[col] >= ptls[1]] = ptls[1]"
   ]
  },
  {
   "cell_type": "code",
   "execution_count": 90,
   "metadata": {},
   "outputs": [
    {
     "data": {
      "text/html": [
       "<div>\n",
       "<style scoped>\n",
       "    .dataframe tbody tr th:only-of-type {\n",
       "        vertical-align: middle;\n",
       "    }\n",
       "\n",
       "    .dataframe tbody tr th {\n",
       "        vertical-align: top;\n",
       "    }\n",
       "\n",
       "    .dataframe thead th {\n",
       "        text-align: right;\n",
       "    }\n",
       "</style>\n",
       "<table border=\"1\" class=\"dataframe\">\n",
       "  <thead>\n",
       "    <tr style=\"text-align: right;\">\n",
       "      <th></th>\n",
       "      <th>mobile_number</th>\n",
       "      <th>arpu_6</th>\n",
       "      <th>arpu_7</th>\n",
       "      <th>arpu_8</th>\n",
       "      <th>onnet_mou_6</th>\n",
       "      <th>onnet_mou_7</th>\n",
       "      <th>onnet_mou_8</th>\n",
       "      <th>offnet_mou_6</th>\n",
       "      <th>offnet_mou_7</th>\n",
       "      <th>offnet_mou_8</th>\n",
       "      <th>...</th>\n",
       "      <th>monthly_3g_8</th>\n",
       "      <th>sachet_3g_6</th>\n",
       "      <th>sachet_3g_7</th>\n",
       "      <th>sachet_3g_8</th>\n",
       "      <th>aon</th>\n",
       "      <th>aug_vbc_3g</th>\n",
       "      <th>jul_vbc_3g</th>\n",
       "      <th>jun_vbc_3g</th>\n",
       "      <th>total_rech_avg_amt_good</th>\n",
       "      <th>churn</th>\n",
       "    </tr>\n",
       "  </thead>\n",
       "  <tbody>\n",
       "    <tr>\n",
       "      <th>count</th>\n",
       "      <td>2.997900e+04</td>\n",
       "      <td>29979.000000</td>\n",
       "      <td>29979.000000</td>\n",
       "      <td>29979.000000</td>\n",
       "      <td>29979.000000</td>\n",
       "      <td>29979.000000</td>\n",
       "      <td>29979.000000</td>\n",
       "      <td>29979.000000</td>\n",
       "      <td>29979.000000</td>\n",
       "      <td>29979.000000</td>\n",
       "      <td>...</td>\n",
       "      <td>29979.000000</td>\n",
       "      <td>29979.000000</td>\n",
       "      <td>29979.000000</td>\n",
       "      <td>29979.000000</td>\n",
       "      <td>29979.000000</td>\n",
       "      <td>29979.000000</td>\n",
       "      <td>29979.000000</td>\n",
       "      <td>29979.000000</td>\n",
       "      <td>29979.000000</td>\n",
       "      <td>29979.00000</td>\n",
       "    </tr>\n",
       "    <tr>\n",
       "      <th>mean</th>\n",
       "      <td>7.001223e+09</td>\n",
       "      <td>578.115790</td>\n",
       "      <td>579.934200</td>\n",
       "      <td>524.618925</td>\n",
       "      <td>288.909740</td>\n",
       "      <td>296.580898</td>\n",
       "      <td>261.866393</td>\n",
       "      <td>413.363109</td>\n",
       "      <td>418.408660</td>\n",
       "      <td>373.082685</td>\n",
       "      <td>...</td>\n",
       "      <td>0.163815</td>\n",
       "      <td>0.100304</td>\n",
       "      <td>0.103239</td>\n",
       "      <td>0.093966</td>\n",
       "      <td>1263.461223</td>\n",
       "      <td>120.468609</td>\n",
       "      <td>126.130999</td>\n",
       "      <td>112.271333</td>\n",
       "      <td>686.128273</td>\n",
       "      <td>0.08636</td>\n",
       "    </tr>\n",
       "    <tr>\n",
       "      <th>std</th>\n",
       "      <td>6.846594e+05</td>\n",
       "      <td>336.036348</td>\n",
       "      <td>338.202040</td>\n",
       "      <td>370.788082</td>\n",
       "      <td>404.375323</td>\n",
       "      <td>419.262037</td>\n",
       "      <td>398.634242</td>\n",
       "      <td>420.037947</td>\n",
       "      <td>429.176148</td>\n",
       "      <td>401.058913</td>\n",
       "      <td>...</td>\n",
       "      <td>0.505309</td>\n",
       "      <td>0.427528</td>\n",
       "      <td>0.442786</td>\n",
       "      <td>0.431060</td>\n",
       "      <td>973.137375</td>\n",
       "      <td>318.585454</td>\n",
       "      <td>337.364761</td>\n",
       "      <td>313.189126</td>\n",
       "      <td>347.666592</td>\n",
       "      <td>0.28090</td>\n",
       "    </tr>\n",
       "    <tr>\n",
       "      <th>min</th>\n",
       "      <td>7.000000e+09</td>\n",
       "      <td>18.221200</td>\n",
       "      <td>25.600600</td>\n",
       "      <td>0.000000</td>\n",
       "      <td>0.000000</td>\n",
       "      <td>0.000000</td>\n",
       "      <td>0.000000</td>\n",
       "      <td>1.057800</td>\n",
       "      <td>1.099000</td>\n",
       "      <td>0.000000</td>\n",
       "      <td>...</td>\n",
       "      <td>0.000000</td>\n",
       "      <td>0.000000</td>\n",
       "      <td>0.000000</td>\n",
       "      <td>0.000000</td>\n",
       "      <td>189.000000</td>\n",
       "      <td>0.000000</td>\n",
       "      <td>0.000000</td>\n",
       "      <td>0.000000</td>\n",
       "      <td>371.500000</td>\n",
       "      <td>0.00000</td>\n",
       "    </tr>\n",
       "    <tr>\n",
       "      <th>1%</th>\n",
       "      <td>7.000028e+09</td>\n",
       "      <td>18.228064</td>\n",
       "      <td>25.732732</td>\n",
       "      <td>0.000000</td>\n",
       "      <td>0.000000</td>\n",
       "      <td>0.000000</td>\n",
       "      <td>0.000000</td>\n",
       "      <td>1.059516</td>\n",
       "      <td>1.107580</td>\n",
       "      <td>0.000000</td>\n",
       "      <td>...</td>\n",
       "      <td>0.000000</td>\n",
       "      <td>0.000000</td>\n",
       "      <td>0.000000</td>\n",
       "      <td>0.000000</td>\n",
       "      <td>189.000000</td>\n",
       "      <td>0.000000</td>\n",
       "      <td>0.000000</td>\n",
       "      <td>0.000000</td>\n",
       "      <td>371.500000</td>\n",
       "      <td>0.00000</td>\n",
       "    </tr>\n",
       "    <tr>\n",
       "      <th>10%</th>\n",
       "      <td>7.000269e+09</td>\n",
       "      <td>270.692200</td>\n",
       "      <td>274.458200</td>\n",
       "      <td>134.118600</td>\n",
       "      <td>12.230000</td>\n",
       "      <td>11.726000</td>\n",
       "      <td>6.906000</td>\n",
       "      <td>58.606000</td>\n",
       "      <td>59.604000</td>\n",
       "      <td>35.072000</td>\n",
       "      <td>...</td>\n",
       "      <td>0.000000</td>\n",
       "      <td>0.000000</td>\n",
       "      <td>0.000000</td>\n",
       "      <td>0.000000</td>\n",
       "      <td>294.000000</td>\n",
       "      <td>0.000000</td>\n",
       "      <td>0.000000</td>\n",
       "      <td>0.000000</td>\n",
       "      <td>397.000000</td>\n",
       "      <td>0.00000</td>\n",
       "    </tr>\n",
       "    <tr>\n",
       "      <th>25%</th>\n",
       "      <td>7.000641e+09</td>\n",
       "      <td>364.352500</td>\n",
       "      <td>365.235000</td>\n",
       "      <td>289.782000</td>\n",
       "      <td>43.590000</td>\n",
       "      <td>43.370000</td>\n",
       "      <td>34.060000</td>\n",
       "      <td>142.860000</td>\n",
       "      <td>141.280000</td>\n",
       "      <td>111.780000</td>\n",
       "      <td>...</td>\n",
       "      <td>0.000000</td>\n",
       "      <td>0.000000</td>\n",
       "      <td>0.000000</td>\n",
       "      <td>0.000000</td>\n",
       "      <td>480.000000</td>\n",
       "      <td>0.000000</td>\n",
       "      <td>0.000000</td>\n",
       "      <td>0.000000</td>\n",
       "      <td>450.000000</td>\n",
       "      <td>0.00000</td>\n",
       "    </tr>\n",
       "    <tr>\n",
       "      <th>50%</th>\n",
       "      <td>7.001232e+09</td>\n",
       "      <td>495.951000</td>\n",
       "      <td>493.781000</td>\n",
       "      <td>452.232000</td>\n",
       "      <td>128.480000</td>\n",
       "      <td>128.120000</td>\n",
       "      <td>106.390000</td>\n",
       "      <td>285.990000</td>\n",
       "      <td>285.630000</td>\n",
       "      <td>251.530000</td>\n",
       "      <td>...</td>\n",
       "      <td>0.000000</td>\n",
       "      <td>0.000000</td>\n",
       "      <td>0.000000</td>\n",
       "      <td>0.000000</td>\n",
       "      <td>914.000000</td>\n",
       "      <td>0.000000</td>\n",
       "      <td>0.000000</td>\n",
       "      <td>0.000000</td>\n",
       "      <td>569.000000</td>\n",
       "      <td>0.00000</td>\n",
       "    </tr>\n",
       "    <tr>\n",
       "      <th>75%</th>\n",
       "      <td>7.001814e+09</td>\n",
       "      <td>704.184500</td>\n",
       "      <td>700.986000</td>\n",
       "      <td>671.349500</td>\n",
       "      <td>353.500000</td>\n",
       "      <td>360.360000</td>\n",
       "      <td>298.215000</td>\n",
       "      <td>523.625000</td>\n",
       "      <td>532.905000</td>\n",
       "      <td>483.000000</td>\n",
       "      <td>...</td>\n",
       "      <td>0.000000</td>\n",
       "      <td>0.000000</td>\n",
       "      <td>0.000000</td>\n",
       "      <td>0.000000</td>\n",
       "      <td>1923.500000</td>\n",
       "      <td>1.600000</td>\n",
       "      <td>2.025000</td>\n",
       "      <td>0.000000</td>\n",
       "      <td>796.000000</td>\n",
       "      <td>0.00000</td>\n",
       "    </tr>\n",
       "    <tr>\n",
       "      <th>90%</th>\n",
       "      <td>7.002167e+09</td>\n",
       "      <td>994.311800</td>\n",
       "      <td>996.051400</td>\n",
       "      <td>985.499200</td>\n",
       "      <td>795.354000</td>\n",
       "      <td>825.486000</td>\n",
       "      <td>724.182000</td>\n",
       "      <td>916.490000</td>\n",
       "      <td>935.716000</td>\n",
       "      <td>854.006000</td>\n",
       "      <td>...</td>\n",
       "      <td>1.000000</td>\n",
       "      <td>0.000000</td>\n",
       "      <td>0.000000</td>\n",
       "      <td>0.000000</td>\n",
       "      <td>2846.000000</td>\n",
       "      <td>439.100000</td>\n",
       "      <td>455.078000</td>\n",
       "      <td>395.168000</td>\n",
       "      <td>1118.100000</td>\n",
       "      <td>0.00000</td>\n",
       "    </tr>\n",
       "    <tr>\n",
       "      <th>95%</th>\n",
       "      <td>7.002287e+09</td>\n",
       "      <td>1240.976700</td>\n",
       "      <td>1261.848400</td>\n",
       "      <td>1258.703300</td>\n",
       "      <td>1154.900000</td>\n",
       "      <td>1208.691000</td>\n",
       "      <td>1115.857000</td>\n",
       "      <td>1271.757000</td>\n",
       "      <td>1287.221000</td>\n",
       "      <td>1188.523000</td>\n",
       "      <td>...</td>\n",
       "      <td>1.000000</td>\n",
       "      <td>1.000000</td>\n",
       "      <td>1.000000</td>\n",
       "      <td>1.000000</td>\n",
       "      <td>3178.200000</td>\n",
       "      <td>819.257000</td>\n",
       "      <td>845.429000</td>\n",
       "      <td>762.122000</td>\n",
       "      <td>1406.500000</td>\n",
       "      <td>1.00000</td>\n",
       "    </tr>\n",
       "    <tr>\n",
       "      <th>99%</th>\n",
       "      <td>7.002387e+09</td>\n",
       "      <td>1983.254622</td>\n",
       "      <td>1999.502130</td>\n",
       "      <td>1988.059437</td>\n",
       "      <td>2166.652920</td>\n",
       "      <td>2220.563872</td>\n",
       "      <td>2189.207276</td>\n",
       "      <td>2326.763172</td>\n",
       "      <td>2410.915168</td>\n",
       "      <td>2212.191460</td>\n",
       "      <td>...</td>\n",
       "      <td>3.000000</td>\n",
       "      <td>3.000000</td>\n",
       "      <td>3.000000</td>\n",
       "      <td>3.000000</td>\n",
       "      <td>3651.000000</td>\n",
       "      <td>1822.574848</td>\n",
       "      <td>1941.854216</td>\n",
       "      <td>1866.907800</td>\n",
       "      <td>2217.000000</td>\n",
       "      <td>1.00000</td>\n",
       "    </tr>\n",
       "    <tr>\n",
       "      <th>max</th>\n",
       "      <td>7.002411e+09</td>\n",
       "      <td>1983.590100</td>\n",
       "      <td>1999.509680</td>\n",
       "      <td>1988.082260</td>\n",
       "      <td>2166.876000</td>\n",
       "      <td>2220.577600</td>\n",
       "      <td>2189.445800</td>\n",
       "      <td>2328.192600</td>\n",
       "      <td>2411.004400</td>\n",
       "      <td>2212.303000</td>\n",
       "      <td>...</td>\n",
       "      <td>3.000000</td>\n",
       "      <td>3.000000</td>\n",
       "      <td>3.000000</td>\n",
       "      <td>3.000000</td>\n",
       "      <td>3651.000000</td>\n",
       "      <td>1822.698400</td>\n",
       "      <td>1942.152800</td>\n",
       "      <td>1867.680000</td>\n",
       "      <td>2217.000000</td>\n",
       "      <td>1.00000</td>\n",
       "    </tr>\n",
       "  </tbody>\n",
       "</table>\n",
       "<p>13 rows × 131 columns</p>\n",
       "</div>"
      ],
      "text/plain": [
       "       mobile_number        arpu_6        arpu_7        arpu_8   onnet_mou_6  \\\n",
       "count   2.997900e+04  29979.000000  29979.000000  29979.000000  29979.000000   \n",
       "mean    7.001223e+09    578.115790    579.934200    524.618925    288.909740   \n",
       "std     6.846594e+05    336.036348    338.202040    370.788082    404.375323   \n",
       "min     7.000000e+09     18.221200     25.600600      0.000000      0.000000   \n",
       "1%      7.000028e+09     18.228064     25.732732      0.000000      0.000000   \n",
       "10%     7.000269e+09    270.692200    274.458200    134.118600     12.230000   \n",
       "25%     7.000641e+09    364.352500    365.235000    289.782000     43.590000   \n",
       "50%     7.001232e+09    495.951000    493.781000    452.232000    128.480000   \n",
       "75%     7.001814e+09    704.184500    700.986000    671.349500    353.500000   \n",
       "90%     7.002167e+09    994.311800    996.051400    985.499200    795.354000   \n",
       "95%     7.002287e+09   1240.976700   1261.848400   1258.703300   1154.900000   \n",
       "99%     7.002387e+09   1983.254622   1999.502130   1988.059437   2166.652920   \n",
       "max     7.002411e+09   1983.590100   1999.509680   1988.082260   2166.876000   \n",
       "\n",
       "        onnet_mou_7   onnet_mou_8  offnet_mou_6  offnet_mou_7  offnet_mou_8  \\\n",
       "count  29979.000000  29979.000000  29979.000000  29979.000000  29979.000000   \n",
       "mean     296.580898    261.866393    413.363109    418.408660    373.082685   \n",
       "std      419.262037    398.634242    420.037947    429.176148    401.058913   \n",
       "min        0.000000      0.000000      1.057800      1.099000      0.000000   \n",
       "1%         0.000000      0.000000      1.059516      1.107580      0.000000   \n",
       "10%       11.726000      6.906000     58.606000     59.604000     35.072000   \n",
       "25%       43.370000     34.060000    142.860000    141.280000    111.780000   \n",
       "50%      128.120000    106.390000    285.990000    285.630000    251.530000   \n",
       "75%      360.360000    298.215000    523.625000    532.905000    483.000000   \n",
       "90%      825.486000    724.182000    916.490000    935.716000    854.006000   \n",
       "95%     1208.691000   1115.857000   1271.757000   1287.221000   1188.523000   \n",
       "99%     2220.563872   2189.207276   2326.763172   2410.915168   2212.191460   \n",
       "max     2220.577600   2189.445800   2328.192600   2411.004400   2212.303000   \n",
       "\n",
       "          ...       monthly_3g_8   sachet_3g_6   sachet_3g_7   sachet_3g_8  \\\n",
       "count     ...       29979.000000  29979.000000  29979.000000  29979.000000   \n",
       "mean      ...           0.163815      0.100304      0.103239      0.093966   \n",
       "std       ...           0.505309      0.427528      0.442786      0.431060   \n",
       "min       ...           0.000000      0.000000      0.000000      0.000000   \n",
       "1%        ...           0.000000      0.000000      0.000000      0.000000   \n",
       "10%       ...           0.000000      0.000000      0.000000      0.000000   \n",
       "25%       ...           0.000000      0.000000      0.000000      0.000000   \n",
       "50%       ...           0.000000      0.000000      0.000000      0.000000   \n",
       "75%       ...           0.000000      0.000000      0.000000      0.000000   \n",
       "90%       ...           1.000000      0.000000      0.000000      0.000000   \n",
       "95%       ...           1.000000      1.000000      1.000000      1.000000   \n",
       "99%       ...           3.000000      3.000000      3.000000      3.000000   \n",
       "max       ...           3.000000      3.000000      3.000000      3.000000   \n",
       "\n",
       "                aon    aug_vbc_3g    jul_vbc_3g    jun_vbc_3g  \\\n",
       "count  29979.000000  29979.000000  29979.000000  29979.000000   \n",
       "mean    1263.461223    120.468609    126.130999    112.271333   \n",
       "std      973.137375    318.585454    337.364761    313.189126   \n",
       "min      189.000000      0.000000      0.000000      0.000000   \n",
       "1%       189.000000      0.000000      0.000000      0.000000   \n",
       "10%      294.000000      0.000000      0.000000      0.000000   \n",
       "25%      480.000000      0.000000      0.000000      0.000000   \n",
       "50%      914.000000      0.000000      0.000000      0.000000   \n",
       "75%     1923.500000      1.600000      2.025000      0.000000   \n",
       "90%     2846.000000    439.100000    455.078000    395.168000   \n",
       "95%     3178.200000    819.257000    845.429000    762.122000   \n",
       "99%     3651.000000   1822.574848   1941.854216   1866.907800   \n",
       "max     3651.000000   1822.698400   1942.152800   1867.680000   \n",
       "\n",
       "       total_rech_avg_amt_good        churn  \n",
       "count             29979.000000  29979.00000  \n",
       "mean                686.128273      0.08636  \n",
       "std                 347.666592      0.28090  \n",
       "min                 371.500000      0.00000  \n",
       "1%                  371.500000      0.00000  \n",
       "10%                 397.000000      0.00000  \n",
       "25%                 450.000000      0.00000  \n",
       "50%                 569.000000      0.00000  \n",
       "75%                 796.000000      0.00000  \n",
       "90%                1118.100000      0.00000  \n",
       "95%                1406.500000      1.00000  \n",
       "99%                2217.000000      1.00000  \n",
       "max                2217.000000      1.00000  \n",
       "\n",
       "[13 rows x 131 columns]"
      ]
     },
     "execution_count": 90,
     "metadata": {},
     "output_type": "execute_result"
    }
   ],
   "source": [
    "df_high.describe(percentiles=[0.01, 0.10, 0.25, 0.50, 0.75, 0.90, 0.95, 0.99])"
   ]
  },
  {
   "cell_type": "markdown",
   "metadata": {},
   "source": [
    "Now all the outliers are removed"
   ]
  },
  {
   "cell_type": "code",
   "execution_count": 91,
   "metadata": {},
   "outputs": [
    {
     "data": {
      "text/plain": [
       "(29979, 131)"
      ]
     },
     "execution_count": 91,
     "metadata": {},
     "output_type": "execute_result"
    }
   ],
   "source": [
    "df_high.shape"
   ]
  },
  {
   "cell_type": "markdown",
   "metadata": {},
   "source": [
    "### EDA"
   ]
  },
  {
   "cell_type": "code",
   "execution_count": null,
   "metadata": {},
   "outputs": [],
   "source": [
    "#Correlations\n",
    "correlation = df_high.corr()\n",
    "plt.figure(figsize = (20,10))\n",
    "sns.heatmap(correlation, annot = True)"
   ]
  },
  {
   "cell_type": "code",
   "execution_count": null,
   "metadata": {},
   "outputs": [],
   "source": [
    "#Some important features\n",
    "fig = plt.figure(figsize=(13,8))\n",
    "\n",
    "plt.subplot(2,2,1)\n",
    "sns.boxplot(x='churn', y='total_ic_mou_8', data = df_high)\n",
    "\n",
    "plt.subplot(2,2,2)\n",
    "sns.boxplot(x='churn', y='total_og_mou_8', data = df_high)\n",
    "\n",
    "plt.subplot(2,2,3)\n",
    "sns.boxplot(x='churn', y='total_rech_amt_8', data = df_high)\n",
    "\n",
    "plt.subplot(2,2,4)\n",
    "sns.boxplot(x='churn', y='last_day_rch_amt_8', data = df_high)"
   ]
  },
  {
   "cell_type": "code",
   "execution_count": null,
   "metadata": {},
   "outputs": [],
   "source": [
    "sns.boxplot(x='churn', y='max_rech_amt_8', data = df_high)"
   ]
  },
  {
   "cell_type": "code",
   "execution_count": null,
   "metadata": {},
   "outputs": [],
   "source": [
    "sns.boxplot(x='churn', y='arpu_8', data = df_high)"
   ]
  },
  {
   "cell_type": "code",
   "execution_count": null,
   "metadata": {},
   "outputs": [],
   "source": [
    "sns.pairplot(data=df_high[['last_day_rch_amt_8','loc_ic_t2m_mou_8','max_rech_amt_8', 'loc_ic_mou_8',\n",
    "                           'roam_ic_mou_8', 'date_of_last_rech_8', 'roam_og_mou_8', 'loc_og_mou_8',\n",
    "                           'loc_og_t2t_mou_8', 'loc_og_t2m_mou_8', 'loc_ic_t2t_mou_8', 'loc_ic_t2f_mou_8',\n",
    "                           'total_rech_num_8', 'loc_og_t2f_mou_8', 'std_ic_mou_8', 'std_ic_t2m_mou_8', 'churn']],\n",
    "             hue='churn')"
   ]
  },
  {
   "cell_type": "markdown",
   "metadata": {},
   "source": [
    "### Scaling"
   ]
  },
  {
   "cell_type": "code",
   "execution_count": 92,
   "metadata": {},
   "outputs": [],
   "source": [
    "scaler = StandardScaler()"
   ]
  },
  {
   "cell_type": "code",
   "execution_count": 93,
   "metadata": {},
   "outputs": [],
   "source": [
    "X = df_high.drop(['churn','mobile_number'], axis=1)\n",
    "\n",
    "y = df_high['churn']"
   ]
  },
  {
   "cell_type": "code",
   "execution_count": 94,
   "metadata": {},
   "outputs": [],
   "source": [
    "X_scaled = scaler.fit_transform(X)"
   ]
  },
  {
   "cell_type": "markdown",
   "metadata": {},
   "source": [
    "### Train-Test Split"
   ]
  },
  {
   "cell_type": "code",
   "execution_count": 95,
   "metadata": {},
   "outputs": [
    {
     "name": "stdout",
     "output_type": "stream",
     "text": [
      "X_train shape: (20985, 129)\n",
      "y_train shape: (20985,)\n",
      "X_test shape: (8994, 129)\n",
      "y_test shape: (8994,)\n"
     ]
    }
   ],
   "source": [
    "X_train, X_test, y_train, y_test = train_test_split(X_scaled, y, train_size=0.7, test_size=0.3, random_state=100)\n",
    "\n",
    "print(\"X_train shape:\", X_train.shape)\n",
    "print(\"y_train shape:\", y_train.shape)\n",
    "print(\"X_test shape:\", X_test.shape)\n",
    "print(\"y_test shape:\", y_test.shape)"
   ]
  },
  {
   "cell_type": "markdown",
   "metadata": {},
   "source": [
    "### PCA"
   ]
  },
  {
   "cell_type": "code",
   "execution_count": 96,
   "metadata": {},
   "outputs": [],
   "source": [
    "pca = PCA(svd_solver = 'randomized', random_state = 50)"
   ]
  },
  {
   "cell_type": "code",
   "execution_count": 97,
   "metadata": {},
   "outputs": [
    {
     "data": {
      "text/plain": [
       "PCA(copy=True, iterated_power='auto', n_components=None, random_state=50,\n",
       "    svd_solver='randomized', tol=0.0, whiten=False)"
      ]
     },
     "execution_count": 97,
     "metadata": {},
     "output_type": "execute_result"
    }
   ],
   "source": [
    "#doing the PCA on X_train\n",
    "pca.fit(X_train)"
   ]
  },
  {
   "cell_type": "code",
   "execution_count": 98,
   "metadata": {},
   "outputs": [
    {
     "data": {
      "text/plain": [
       "array([[ 8.51923498e-02,  9.09253315e-02,  1.05437427e-01, ...,\n",
       "         6.22423862e-02,  5.87374949e-02,  9.98693649e-02],\n",
       "       [ 1.25939947e-01,  1.61270126e-01,  1.51340675e-01, ...,\n",
       "        -6.89059392e-02, -6.85765538e-02,  1.63026916e-01],\n",
       "       [ 9.94445207e-02,  1.37439955e-01,  1.39686622e-01, ...,\n",
       "         2.00366718e-01,  1.91522496e-01,  1.35510770e-01],\n",
       "       ...,\n",
       "       [-1.44904287e-03,  5.68573714e-03, -1.20193488e-03, ...,\n",
       "         1.74361586e-04,  2.04688470e-04, -9.38226879e-04],\n",
       "       [-0.00000000e+00, -2.75044744e-17,  1.75395335e-16, ...,\n",
       "        -1.28399911e-17, -3.05170746e-16, -3.17689611e-17],\n",
       "       [ 0.00000000e+00,  5.69383031e-17,  3.77311167e-17, ...,\n",
       "        -9.53330820e-18,  2.05922261e-17, -1.18926975e-17]])"
      ]
     },
     "execution_count": 98,
     "metadata": {},
     "output_type": "execute_result"
    }
   ],
   "source": [
    "pca.components_"
   ]
  },
  {
   "cell_type": "code",
   "execution_count": 99,
   "metadata": {},
   "outputs": [
    {
     "data": {
      "text/plain": [
       "array([1.14156320e-01, 9.08194612e-02, 5.96756775e-02, 4.98655159e-02,\n",
       "       4.18111194e-02, 3.71421256e-02, 2.88174376e-02, 2.75806679e-02,\n",
       "       2.63106415e-02, 2.47115396e-02, 2.38755014e-02, 2.34275253e-02,\n",
       "       2.00544324e-02, 1.91245273e-02, 1.72284853e-02, 1.63022875e-02,\n",
       "       1.56117863e-02, 1.28859709e-02, 1.19539537e-02, 1.15220543e-02,\n",
       "       1.10878919e-02, 1.08005242e-02, 1.02638551e-02, 9.56318692e-03,\n",
       "       9.09547163e-03, 8.65438932e-03, 8.46734560e-03, 8.15471631e-03,\n",
       "       7.88395265e-03, 7.43440707e-03, 7.37873013e-03, 7.14616069e-03,\n",
       "       6.89663830e-03, 6.68175366e-03, 6.61708171e-03, 6.39380112e-03,\n",
       "       6.30538370e-03, 6.18857052e-03, 6.10135567e-03, 5.93971751e-03,\n",
       "       5.83751296e-03, 5.77870079e-03, 5.61518995e-03, 5.33940686e-03,\n",
       "       5.23069235e-03, 5.15436561e-03, 5.04277620e-03, 4.85827652e-03,\n",
       "       4.62879201e-03, 4.53076332e-03, 4.43256952e-03, 4.33806385e-03,\n",
       "       4.02936636e-03, 3.81725570e-03, 3.68271515e-03, 3.53174332e-03,\n",
       "       3.46885927e-03, 3.43190320e-03, 3.36290878e-03, 3.26973108e-03,\n",
       "       3.17594399e-03, 3.11480930e-03, 3.09476721e-03, 2.87359865e-03,\n",
       "       2.83205988e-03, 2.72841504e-03, 2.67391126e-03, 2.54412941e-03,\n",
       "       2.42058871e-03, 2.39649650e-03, 2.36728118e-03, 2.33348018e-03,\n",
       "       2.29699719e-03, 2.26906073e-03, 2.24170029e-03, 2.20609934e-03,\n",
       "       2.16925046e-03, 2.06656300e-03, 2.05098719e-03, 1.92467414e-03,\n",
       "       1.83921227e-03, 1.78242123e-03, 1.73004426e-03, 1.67985232e-03,\n",
       "       1.63261703e-03, 1.58872359e-03, 1.56234622e-03, 1.53142620e-03,\n",
       "       1.48394422e-03, 1.42123268e-03, 1.27278407e-03, 1.23818725e-03,\n",
       "       1.18158490e-03, 1.13170192e-03, 1.01163576e-03, 9.12391329e-04,\n",
       "       8.90948589e-04, 7.66580856e-04, 7.47603398e-04, 7.23619914e-04,\n",
       "       6.41426273e-04, 6.00452003e-04, 4.88327445e-04, 3.95848053e-04,\n",
       "       3.14894617e-04, 2.55975350e-04, 2.45285720e-04, 2.38118015e-04,\n",
       "       2.14741940e-04, 1.74811080e-04, 1.61881866e-04, 1.34020251e-04,\n",
       "       1.24514462e-04, 9.88658625e-05, 9.79411321e-05, 9.37708825e-05,\n",
       "       7.77754580e-05, 7.28967482e-05, 6.34122971e-05, 5.40285565e-05,\n",
       "       5.04766909e-05, 4.25731655e-05, 3.85010283e-05, 3.29138975e-05,\n",
       "       2.54164435e-05, 2.16892333e-05, 1.62130905e-05, 1.31402795e-33,\n",
       "       3.95000937e-34])"
      ]
     },
     "execution_count": 99,
     "metadata": {},
     "output_type": "execute_result"
    }
   ],
   "source": [
    "pca.explained_variance_ratio_"
   ]
  },
  {
   "cell_type": "code",
   "execution_count": 100,
   "metadata": {},
   "outputs": [
    {
     "data": {
      "image/png": "[encoded data removed]",
      "text/plain": [
       "<Figure size 576x432 with 1 Axes>"
      ]
     },
     "metadata": {
      "needs_background": "light"
     },
     "output_type": "display_data"
    }
   ],
   "source": [
    "%matplotlib inline\n",
    "fig = plt.figure(figsize = (8,6))\n",
    "plt.plot(np.cumsum(pca.explained_variance_ratio_))\n",
    "plt.xlabel('number of components')\n",
    "plt.ylabel('cumulative explained variance')\n",
    "plt.show()"
   ]
  },
  {
   "cell_type": "code",
   "execution_count": 101,
   "metadata": {},
   "outputs": [
    {
     "data": {
      "text/plain": [
       "(20985, 20)"
      ]
     },
     "execution_count": 101,
     "metadata": {},
     "output_type": "execute_result"
    }
   ],
   "source": [
    "pca_final = IncrementalPCA(n_components=20) #20 components are enough to explain >90% variance\n",
    "\n",
    "X_train_pca = pca_final.fit_transform(X_train) #PCA on train dataset\n",
    "X_train_pca.shape"
   ]
  },
  {
   "cell_type": "code",
   "execution_count": 102,
   "metadata": {},
   "outputs": [
    {
     "name": "stdout",
     "output_type": "stream",
     "text": [
      "max_corr: 0.003368253477152489 and min_corr: -0.006748229859277252\n"
     ]
    }
   ],
   "source": [
    "#Maximum and minimum correlations after PCA\n",
    "corr = np.corrcoef(X_train_pca.transpose())\n",
    "corr_nodiag = corr - np.diagflat(corr.diagonal())\n",
    "print(\"max_corr:\", corr_nodiag.max(), 'and', \"min_corr:\", corr_nodiag.min(),)"
   ]
  },
  {
   "cell_type": "markdown",
   "metadata": {},
   "source": [
    "So, after PCA we dont have any multicolinearity"
   ]
  },
  {
   "cell_type": "code",
   "execution_count": 50,
   "metadata": {},
   "outputs": [
    {
     "data": {
      "text/plain": [
       "(8994, 20)"
      ]
     },
     "execution_count": 50,
     "metadata": {},
     "output_type": "execute_result"
    }
   ],
   "source": [
    "#PCA on test data\n",
    "X_test_pca = pca_final.transform(X_test)\n",
    "X_test_pca.shape"
   ]
  },
  {
   "cell_type": "markdown",
   "metadata": {},
   "source": [
    "### Model Building"
   ]
  },
  {
   "cell_type": "markdown",
   "metadata": {},
   "source": [
    "#### Logistic Regression"
   ]
  },
  {
   "cell_type": "code",
   "execution_count": 51,
   "metadata": {},
   "outputs": [],
   "source": [
    "lr_pca = LogisticRegression(class_weight='balanced') #class_weight='balanced' was used due to class imbalance in the dataset\n",
    "model_lr_pca = lr_pca.fit(X_train_pca, y_train)"
   ]
  },
  {
   "cell_type": "code",
   "execution_count": 52,
   "metadata": {},
   "outputs": [],
   "source": [
    "#predictions on train dataset\n",
    "pred_train = model_lr_pca.predict_proba(X_train_pca)\n",
    "y_pred_train = model_lr_pca.predict(X_train_pca)\n",
    "\n",
    "#predictions on test dataset\n",
    "pred_test = model_lr_pca.predict_proba(X_test_pca)\n",
    "y_pred_test = model_lr_pca.predict(X_test_pca)"
   ]
  },
  {
   "cell_type": "code",
   "execution_count": 53,
   "metadata": {},
   "outputs": [
    {
     "name": "stdout",
     "output_type": "stream",
     "text": [
      "[[15741  3470]\n",
      " [  311  1463]]\n",
      "Accuracy Score in train dataset: 0.819823683583512\n",
      "Accuracy Score in test dataset: 0.8186568823660217\n"
     ]
    }
   ],
   "source": [
    "print(confusion_matrix(y_train, y_pred_train))\n",
    "print('Accuracy Score in train dataset:', accuracy_score(y_train, y_pred_train))\n",
    "print('Accuracy Score in test dataset:', accuracy_score(y_test, y_pred_test))"
   ]
  },
  {
   "cell_type": "code",
   "execution_count": 54,
   "metadata": {},
   "outputs": [],
   "source": [
    "y_pred_df = pd.DataFrame(pred_train) #converting array to dataframe\n",
    "y_pred_df_test = pd.DataFrame(pred_test)\n",
    "\n",
    "y_pred = y_pred_df.iloc[:,[1]] #Converting to column dataframe\n",
    "y_pred_test = y_pred_df_test.iloc[:,[1]]\n",
    "\n",
    "y_pred.reset_index(drop=True, inplace=True)\n",
    "y_train.reset_index(drop=True, inplace=True)\n",
    "y_pred_test.reset_index(drop=True, inplace=True)\n",
    "y_test.reset_index(drop=True, inplace=True)\n",
    "\n",
    "y_pred_final = pd.concat([y_train, y_pred], axis=1)\n",
    "y_pred_final_test = pd.concat([y_test, y_pred_test], axis=1)\n",
    " \n",
    "y_pred_final = y_pred_final.rename(columns = { 1 : 'churn_prob'}) #Renaming the column\n",
    "y_pred_final_test = y_pred_final_test.rename(columns = { 1 : 'churn_prob'})"
   ]
  },
  {
   "cell_type": "code",
   "execution_count": 55,
   "metadata": {},
   "outputs": [],
   "source": [
    "#ROC\n",
    "def draw_roc( actual, probs ):\n",
    "    fpr, tpr, thresholds = metrics.roc_curve( actual, probs,\n",
    "                                              drop_intermediate = False )\n",
    "    auc_score = metrics.roc_auc_score( actual, probs )\n",
    "    plt.figure(figsize=(6, 6))\n",
    "    plt.plot( fpr, tpr, label='ROC curve (area = %0.2f)' % auc_score )\n",
    "    plt.plot([0, 1], [0, 1], 'k--')\n",
    "    plt.xlim([0.0, 1.0])\n",
    "    plt.ylim([0.0, 1.05])\n",
    "    plt.xlabel('False Positive Rate or [1 - True Negative Rate]')\n",
    "    plt.ylabel('True Positive Rate')\n",
    "    plt.title('Receiver operating characteristic example')\n",
    "    plt.legend(loc=\"lower right\")\n",
    "    plt.show()\n",
    "\n",
    "    return fpr, tpr, thresholds"
   ]
  },
  {
   "cell_type": "code",
   "execution_count": 56,
   "metadata": {},
   "outputs": [
    {
     "name": "stdout",
     "output_type": "stream",
     "text": [
      "AUC: 0.8778135670933078\n"
     ]
    }
   ],
   "source": [
    "#AUC\n",
    "fpr, tpr, thresholds =roc_curve(y_pred_final.churn, y_pred_final.churn_prob)\n",
    "auc = auc(fpr, tpr)\n",
    "print('AUC:', auc)"
   ]
  },
  {
   "cell_type": "code",
   "execution_count": 57,
   "metadata": {},
   "outputs": [
    {
     "data": {
      "image/png": "[encoded data removed]",
      "text/plain": [
       "<Figure size 432x432 with 1 Axes>"
      ]
     },
     "metadata": {
      "needs_background": "light"
     },
     "output_type": "display_data"
    },
    {
     "data": {
      "text/plain": [
       "(array([0.        , 0.        , 0.        , ..., 0.99989589, 0.99994795,\n",
       "        1.        ]),\n",
       " array([0.00000000e+00, 5.63697858e-04, 1.12739572e-03, ...,\n",
       "        1.00000000e+00, 1.00000000e+00, 1.00000000e+00]),\n",
       " array([1.99931857e+00, 9.99318570e-01, 9.98284686e-01, ...,\n",
       "        8.03166202e-05, 6.35320348e-05, 1.77551213e-05]))"
      ]
     },
     "execution_count": 57,
     "metadata": {},
     "output_type": "execute_result"
    }
   ],
   "source": [
    "draw_roc(y_pred_final.churn, y_pred_final.churn_prob)"
   ]
  },
  {
   "cell_type": "code",
   "execution_count": 58,
   "metadata": {},
   "outputs": [],
   "source": [
    "numbers = [float(x)/10 for x in range(10)]\n",
    "for i in numbers:\n",
    "    y_pred_final[i] = y_pred_final.churn_prob.map( lambda x: 1 if x > i else 0)\n",
    "#y_pred_final.head()"
   ]
  },
  {
   "cell_type": "code",
   "execution_count": 59,
   "metadata": {},
   "outputs": [
    {
     "name": "stdout",
     "output_type": "stream",
     "text": [
      "     prob  accuracy     sensi     speci\n",
      "0.0   0.0  0.084537  0.000000  1.000000\n",
      "0.1   0.1  0.329855  0.270210  0.975761\n",
      "0.2   0.2  0.505599  0.465358  0.941375\n",
      "0.3   0.3  0.645127  0.620998  0.906426\n",
      "0.4   0.4  0.748249  0.736870  0.871477\n",
      "0.5   0.5  0.819824  0.819374  0.824690\n",
      "0.6   0.6  0.867524  0.876633  0.768884\n",
      "0.7   0.7  0.893972  0.915882  0.656708\n",
      "0.8   0.8  0.909126  0.948779  0.479707\n",
      "0.9   0.9  0.914367  0.978190  0.223224\n"
     ]
    }
   ],
   "source": [
    "#Now let's calculate accuracy sensitivity and specificity for various probability cutoffs.\n",
    "cutoff_df = pd.DataFrame( columns = ['prob','accuracy','sensi','speci'])\n",
    "from sklearn.metrics import confusion_matrix\n",
    "num = [0.0,0.1,0.2,0.3,0.4,0.5,0.6,0.7,0.8,0.9]\n",
    "for i in num:\n",
    "    cm1 = metrics.confusion_matrix( y_pred_final.churn, y_pred_final[i] )\n",
    "    total1=sum(sum(cm1))\n",
    "    accuracy = (cm1[0,0]+cm1[1,1])/total1\n",
    "    sensi = cm1[0,0]/(cm1[0,0]+cm1[0,1])\n",
    "    speci = cm1[1,1]/(cm1[1,0]+cm1[1,1])\n",
    "    cutoff_df.loc[i] =[ i ,accuracy,sensi,speci]\n",
    "print(cutoff_df)"
   ]
  },
  {
   "cell_type": "code",
   "execution_count": 60,
   "metadata": {},
   "outputs": [
    {
     "data": {
      "text/plain": [
       "<matplotlib.axes._subplots.AxesSubplot at 0x1597f9afe10>"
      ]
     },
     "execution_count": 60,
     "metadata": {},
     "output_type": "execute_result"
    },
    {
     "data": {
      "image/png": "[encoded data removed]",
      "text/plain": [
       "<Figure size 432x288 with 1 Axes>"
      ]
     },
     "metadata": {
      "needs_background": "light"
     },
     "output_type": "display_data"
    }
   ],
   "source": [
    "#accuracy vs. sensitivity vs. specificity for various probabilities.\n",
    "cutoff_df.plot.line(x='prob', y=['accuracy','sensi','speci'])"
   ]
  },
  {
   "cell_type": "code",
   "execution_count": 61,
   "metadata": {},
   "outputs": [
    {
     "name": "stdout",
     "output_type": "stream",
     "text": [
      "Threshold:  [0.5044982083862755]\n"
     ]
    }
   ],
   "source": [
    "import sys\n",
    "def Find_Optimal_Cutoff(target, predicted):\n",
    "\n",
    "    fpr, tpr, threshold = roc_curve(target, predicted)\n",
    "    i = np.arange(len(tpr)) \n",
    "    roc = pd.DataFrame({'tf' : pd.Series(tpr-(1-fpr), index=i), 'threshold' : pd.Series(threshold, index=i)})\n",
    "    roc_t = roc.ix[(roc.tf-0).abs().argsort()[:1]]\n",
    "\n",
    "    return list(roc_t['threshold'])\n",
    "\n",
    "#Finding optimal probability threshold\n",
    "threshold = Find_Optimal_Cutoff(y_pred_final.churn,y_pred_final.churn_prob)\n",
    "print('Threshold: ',threshold)"
   ]
  },
  {
   "cell_type": "code",
   "execution_count": 62,
   "metadata": {},
   "outputs": [
    {
     "data": {
      "text/plain": [
       "0    19211\n",
       "1     1774\n",
       "Name: churn, dtype: int64"
      ]
     },
     "execution_count": 62,
     "metadata": {},
     "output_type": "execute_result"
    }
   ],
   "source": [
    "#Creating new column 'pred_churn' with 1 if churn_prob > 0.52 else 0\n",
    "y_pred_final['pred_churn'] = y_pred_final.churn_prob.map( lambda x: 1 if x > 0.50 else 0)\n",
    "\n",
    "y_pred_final.churn.value_counts()"
   ]
  },
  {
   "cell_type": "code",
   "execution_count": 63,
   "metadata": {},
   "outputs": [
    {
     "data": {
      "text/plain": [
       "array([[15741,  3470],\n",
       "       [  311,  1463]], dtype=int64)"
      ]
     },
     "execution_count": 63,
     "metadata": {},
     "output_type": "execute_result"
    }
   ],
   "source": [
    "# Confusion matrix \n",
    "confusion = metrics.confusion_matrix(y_pred_final.churn, y_pred_final.pred_churn)\n",
    "confusion"
   ]
  },
  {
   "cell_type": "code",
   "execution_count": 64,
   "metadata": {},
   "outputs": [
    {
     "name": "stdout",
     "output_type": "stream",
     "text": [
      "Accuracy Score: 0.819823683583512\n",
      "Sensitivity: 0.8246899661781285\n",
      "Specificity: 0.819374316797668\n",
      "False Postive Rate: 0.180625683202332\n",
      "Positive Predictive Value: 0.29657409284411107\n",
      "Negative Predictive Value: 0.9806254672314977\n",
      "Misclassification Rate: 0.18017631641648796\n"
     ]
    }
   ],
   "source": [
    "TP = confusion[1,1] #true positive \n",
    "TN = confusion[0,0] #true negative\n",
    "FP = confusion[0,1] #false positive\n",
    "FN = confusion[1,0] #false negative\n",
    "\n",
    "print('Accuracy Score:', accuracy_score(y_train, y_pred_final['pred_churn']))\n",
    "print('Sensitivity:', TP/float(TP+FN))\n",
    "print('Specificity:', TN/float(TN+FP))\n",
    "print('False Postive Rate:', FP/float(TN+FP))\n",
    "print('Positive Predictive Value:', TP/float(TP+FP))\n",
    "print('Negative Predictive Value:',TN/float(TN+ FN))\n",
    "print('Misclassification Rate:', (FN+FP)/(TP+TN+FP+FN))"
   ]
  },
  {
   "cell_type": "code",
   "execution_count": 65,
   "metadata": {},
   "outputs": [
    {
     "name": "stdout",
     "output_type": "stream",
     "text": [
      "Accuracy Score: 0.8186568823660217\n",
      "Sensitivity: 0.8171779141104294\n",
      "Specificity: 0.8188042547988752\n",
      "False Postive Rate: 0.18119574520112483\n",
      "Positive Predictive Value: 0.3100558659217877\n",
      "Negative Predictive Value: 0.9782354659655274\n",
      "Misclassification Rate: 0.1813431176339782\n"
     ]
    }
   ],
   "source": [
    "#churn prediction in test dataset\n",
    "y_pred_final_test['pred_churn'] = y_pred_final_test.churn_prob.map( lambda x: 1 if x > 0.50 else 0)\n",
    "confusion = metrics.confusion_matrix(y_pred_final_test.churn, y_pred_final_test.pred_churn)\n",
    "\n",
    "TP = confusion[1,1] #true positive \n",
    "TN = confusion[0,0] #true negative\n",
    "FP = confusion[0,1] #false positive\n",
    "FN = confusion[1,0] #false negative\n",
    "\n",
    "print('Accuracy Score:', accuracy_score(y_test, y_pred_final_test['pred_churn']))\n",
    "print('Sensitivity:', TP/float(TP+FN))\n",
    "print('Specificity:', TN/float(TN+FP))\n",
    "print('False Postive Rate:', FP/float(TN+FP))\n",
    "print('Positive Predictive Value:', TP/float(TP+FP))\n",
    "print('Negative Predictive Value:',TN/float(TN+ FN))\n",
    "print('Misclassification Rate:', (FN+FP)/(TP+TN+FP+FN))"
   ]
  },
  {
   "cell_type": "code",
   "execution_count": 66,
   "metadata": {},
   "outputs": [],
   "source": [
    "from sklearn.model_selection  import StratifiedKFold\n",
    "st_Kfold = StratifiedKFold(n_splits=5, shuffle=True, random_state=9999)"
   ]
  },
  {
   "cell_type": "code",
   "execution_count": 67,
   "metadata": {},
   "outputs": [],
   "source": [
    "from sklearn.linear_model import LogisticRegressionCV\n",
    "\n",
    "searchCV = LogisticRegressionCV(Cs= list(np.power(10.0, np.arange(-10, 10))), penalty='l2', scoring='roc_auc', cv=st_Kfold, \n",
    "                                random_state=999, max_iter=100, fit_intercept=True, solver='newton-cg', tol=1, verbose = 2,\n",
    "                                n_jobs = -1)"
   ]
  },
  {
   "cell_type": "code",
   "execution_count": 68,
   "metadata": {},
   "outputs": [
    {
     "name": "stderr",
     "output_type": "stream",
     "text": [
      "[Parallel(n_jobs=-1)]: Using backend LokyBackend with 8 concurrent workers.\n",
      "[Parallel(n_jobs=-1)]: Done   2 out of   5 | elapsed:    3.7s remaining:    5.6s\n",
      "[Parallel(n_jobs=-1)]: Done   5 out of   5 | elapsed:    3.8s remaining:    0.0s\n",
      "[Parallel(n_jobs=-1)]: Done   5 out of   5 | elapsed:    3.8s finished\n"
     ]
    },
    {
     "data": {
      "text/plain": [
       "LogisticRegressionCV(Cs=[1e-10, 1e-09, 1e-08, 1e-07, 1e-06, 1e-05, 0.0001,\n",
       "                         0.001, 0.01, 0.1, 1.0, 10.0, 100.0, 1000.0, 10000.0,\n",
       "                         100000.0, 1000000.0, 10000000.0, 100000000.0,\n",
       "                         1000000000.0],\n",
       "                     class_weight=None,\n",
       "                     cv=StratifiedKFold(n_splits=5, random_state=9999, shuffle=True),\n",
       "                     dual=False, fit_intercept=True, intercept_scaling=1.0,\n",
       "                     l1_ratios=None, max_iter=100, multi_class='warn',\n",
       "                     n_jobs=-1, penalty='l2', random_state=999, refit=True,\n",
       "                     scoring='roc_auc', solver='newton-cg', tol=1, verbose=2)"
      ]
     },
     "execution_count": 68,
     "metadata": {},
     "output_type": "execute_result"
    }
   ],
   "source": [
    "searchCV.fit(X_train_pca, y_train)"
   ]
  },
  {
   "cell_type": "code",
   "execution_count": 69,
   "metadata": {},
   "outputs": [
    {
     "name": "stdout",
     "output_type": "stream",
     "text": [
      "Report for the train dataset: \n",
      "               precision    recall  f1-score   support\n",
      "\n",
      "           0       0.93      0.99      0.96     19211\n",
      "           1       0.54      0.17      0.26      1774\n",
      "\n",
      "    accuracy                           0.92     20985\n",
      "   macro avg       0.73      0.58      0.61     20985\n",
      "weighted avg       0.89      0.92      0.90     20985\n",
      "\n",
      "Report for the test dataset: \n",
      "               precision    recall  f1-score   support\n",
      "\n",
      "           0       0.92      0.99      0.95      8179\n",
      "           1       0.56      0.17      0.26       815\n",
      "\n",
      "    accuracy                           0.91      8994\n",
      "   macro avg       0.74      0.58      0.61      8994\n",
      "weighted avg       0.89      0.91      0.89      8994\n",
      "\n",
      "Accuracy in train dataset: 0.9175125089349535\n",
      "Accuracy in test dataset: 0.9126084056037358\n"
     ]
    }
   ],
   "source": [
    "pred_L2Search_train = searchCV.predict(X_train_pca)\n",
    "pred_L2Search_test = searchCV.predict(X_test_pca)\n",
    "pred_L2Search_prob_train = searchCV.predict_proba(X_train_pca)[:,1]\n",
    "pred_L2Search_prob_test = searchCV.predict_proba(X_train_pca)[:,1]\n",
    "print('Report for the train dataset:', '\\n', classification_report(y_train, pred_L2Search_train))\n",
    "print('Report for the test dataset:', '\\n', classification_report(y_test, pred_L2Search_test))\n",
    "\n",
    "accuracy_train = metrics.accuracy_score(y_train, pred_L2Search_train)\n",
    "accuracy_test = metrics.accuracy_score(y_test, pred_L2Search_test)\n",
    "print(\"Accuracy in train dataset:\", accuracy_train)\n",
    "print(\"Accuracy in test dataset:\", accuracy_test)"
   ]
  },
  {
   "cell_type": "code",
   "execution_count": 70,
   "metadata": {},
   "outputs": [
    {
     "data": {
      "text/plain": [
       "array([[18952,   259],\n",
       "       [ 1472,   302]], dtype=int64)"
      ]
     },
     "execution_count": 70,
     "metadata": {},
     "output_type": "execute_result"
    }
   ],
   "source": [
    "confusion = confusion_matrix(y_train, pred_L2Search_train)\n",
    "confusion"
   ]
  },
  {
   "cell_type": "code",
   "execution_count": 71,
   "metadata": {},
   "outputs": [
    {
     "name": "stdout",
     "output_type": "stream",
     "text": [
      "Accuracy Score: 0.9175125089349535\n",
      "Sensitivity: 0.17023675310033823\n",
      "Specificity: 0.9865181406485868\n",
      "False Postive Rate: 0.013481859351413253\n",
      "Positive Predictive Value: 0.5383244206773619\n",
      "Negative Predictive Value: 0.9279279279279279\n",
      "Misclassification Rate: 0.08248749106504646\n"
     ]
    }
   ],
   "source": [
    "TP = confusion[1,1] #true positive \n",
    "TN = confusion[0,0] #true negative\n",
    "FP = confusion[0,1] #false positive\n",
    "FN = confusion[1,0] #false negative\n",
    "\n",
    "print('Accuracy Score:', accuracy_score(y_train, pred_L2Search_train))\n",
    "print('Sensitivity:', TP/float(TP+FN))\n",
    "print('Specificity:', TN/float(TN+FP))\n",
    "print('False Postive Rate:', FP/float(TN+FP))\n",
    "print('Positive Predictive Value:', TP/float(TP+FP))\n",
    "print('Negative Predictive Value:',TN/float(TN+ FN))\n",
    "print('Misclassification Rate:', (FN+FP)/(TP+TN+FP+FN))"
   ]
  },
  {
   "cell_type": "code",
   "execution_count": 72,
   "metadata": {},
   "outputs": [
    {
     "data": {
      "text/plain": [
       "array([[8071,  108],\n",
       "       [ 678,  137]], dtype=int64)"
      ]
     },
     "execution_count": 72,
     "metadata": {},
     "output_type": "execute_result"
    }
   ],
   "source": [
    "confusion = confusion_matrix(y_test, pred_L2Search_test)\n",
    "confusion"
   ]
  },
  {
   "cell_type": "code",
   "execution_count": 73,
   "metadata": {},
   "outputs": [
    {
     "name": "stdout",
     "output_type": "stream",
     "text": [
      "Accuracy Score: 0.9126084056037358\n",
      "Sensitivity: 0.16809815950920245\n",
      "Specificity: 0.9867954517667197\n",
      "False Postive Rate: 0.013204548233280352\n",
      "Positive Predictive Value: 0.5591836734693878\n",
      "Negative Predictive Value: 0.9225054291919077\n",
      "Misclassification Rate: 0.08739159439626418\n"
     ]
    }
   ],
   "source": [
    "TP = confusion[1,1] #true positive \n",
    "TN = confusion[0,0] #true negative\n",
    "FP = confusion[0,1] #false positive\n",
    "FN = confusion[1,0] #false negative\n",
    "\n",
    "print('Accuracy Score:', accuracy_score(y_test, pred_L2Search_test))\n",
    "print('Sensitivity:', TP/float(TP+FN))\n",
    "print('Specificity:', TN/float(TN+FP))\n",
    "print('False Postive Rate:', FP/float(TN+FP))\n",
    "print('Positive Predictive Value:', TP/float(TP+FP))\n",
    "print('Negative Predictive Value:',TN/float(TN+ FN))\n",
    "print('Misclassification Rate:', (FN+FP)/(TP+TN+FP+FN))"
   ]
  },
  {
   "cell_type": "markdown",
   "metadata": {},
   "source": [
    "#### Random Forest with PCA"
   ]
  },
  {
   "cell_type": "code",
   "execution_count": 74,
   "metadata": {},
   "outputs": [],
   "source": [
    "rf_balanced = RandomForestClassifier(class_weight=\"balanced_subsample\", n_estimators = 1000, max_depth = 6, min_samples_split=5)"
   ]
  },
  {
   "cell_type": "code",
   "execution_count": 75,
   "metadata": {},
   "outputs": [],
   "source": [
    "trained_rf = rf_balanced.fit(X_train_pca, y_train)"
   ]
  },
  {
   "cell_type": "code",
   "execution_count": 76,
   "metadata": {},
   "outputs": [
    {
     "name": "stdout",
     "output_type": "stream",
     "text": [
      "Accuracy in train dataset: 0.868382177746009\n",
      "Accuracy in test dataset: 0.8589059372915276\n",
      "Classification report on train dataset: \n",
      "               precision    recall  f1-score   support\n",
      "\n",
      "           0       0.98      0.87      0.92     19211\n",
      "           1       0.37      0.82      0.51      1774\n",
      "\n",
      "    accuracy                           0.87     20985\n",
      "   macro avg       0.68      0.85      0.72     20985\n",
      "weighted avg       0.93      0.87      0.89     20985\n",
      "\n",
      "Classification report on test dataset: \n",
      "               precision    recall  f1-score   support\n",
      "\n",
      "           0       0.97      0.87      0.92      8179\n",
      "           1       0.36      0.73      0.48       815\n",
      "\n",
      "    accuracy                           0.86      8994\n",
      "   macro avg       0.67      0.80      0.70      8994\n",
      "weighted avg       0.91      0.86      0.88      8994\n",
      "\n"
     ]
    }
   ],
   "source": [
    "pred_rf_train = trained_rf.predict(X_train_pca)\n",
    "pred_rf_test = trained_rf.predict(X_test_pca)\n",
    "pred_prob_rf_train = trained_rf.predict_proba(X_train_pca)[:,1]\n",
    "pred_prob_rf_test = trained_rf.predict_proba(X_test_pca)[:,1]\n",
    "\n",
    "accuracy_train = metrics.accuracy_score(y_train, pred_rf_train)\n",
    "accuracy_test = metrics.accuracy_score(y_test, pred_rf_test)\n",
    "\n",
    "print('Accuracy in train dataset:', accuracy_train)\n",
    "print('Accuracy in test dataset:', accuracy_test)\n",
    "\n",
    "print('Classification report on train dataset:', '\\n', classification_report(y_train, pred_rf_train))\n",
    "print('Classification report on test dataset:', '\\n', classification_report(y_test, pred_rf_test))"
   ]
  },
  {
   "cell_type": "code",
   "execution_count": 77,
   "metadata": {},
   "outputs": [
    {
     "name": "stdout",
     "output_type": "stream",
     "text": [
      "ROC AUC in train dataset 0.913045959611757\n"
     ]
    },
    {
     "data": {
      "image/png": "[encoded data removed]",
      "text/plain": [
       "<Figure size 432x288 with 1 Axes>"
      ]
     },
     "metadata": {
      "needs_background": "light"
     },
     "output_type": "display_data"
    }
   ],
   "source": [
    "#ROC in train dataset\n",
    "fpr, tpr, threshold = metrics.roc_curve(y_train, pred_prob_rf_train)\n",
    "auc = metrics.auc(fpr, tpr)\n",
    "print(\"ROC AUC in train dataset\", auc)\n",
    "plt.plot(fpr, tpr, label = \"train, auc=\" + str(auc))\n",
    "plt.legend(loc = 4)\n",
    "plt.show()"
   ]
  },
  {
   "cell_type": "code",
   "execution_count": 78,
   "metadata": {},
   "outputs": [
    {
     "name": "stdout",
     "output_type": "stream",
     "text": [
      "ROC AUC in train dataset 0.8776615558174196\n"
     ]
    },
    {
     "data": {
      "image/png": "[encoded data removed]",
      "text/plain": [
       "<Figure size 432x288 with 1 Axes>"
      ]
     },
     "metadata": {
      "needs_background": "light"
     },
     "output_type": "display_data"
    }
   ],
   "source": [
    "#ROC in test dataset\n",
    "fpr, tpr, threshold = metrics.roc_curve(y_test, pred_prob_rf_test)\n",
    "auc = metrics.auc(fpr, tpr)\n",
    "print(\"ROC AUC in train dataset\", auc)\n",
    "plt.plot(fpr, tpr, label = \"test, auc=\" + str(auc))\n",
    "plt.legend(loc = 4)\n",
    "plt.show()"
   ]
  },
  {
   "cell_type": "markdown",
   "metadata": {},
   "source": [
    "#### Random Forest with all features"
   ]
  },
  {
   "cell_type": "code",
   "execution_count": 79,
   "metadata": {},
   "outputs": [],
   "source": [
    "rf_all = RandomForestClassifier(class_weight='balanced', n_estimators = 1000, max_depth = 6, min_samples_split=5)"
   ]
  },
  {
   "cell_type": "code",
   "execution_count": 80,
   "metadata": {},
   "outputs": [],
   "source": [
    "trained_rf_all = rf_all.fit(X_train, y_train)"
   ]
  },
  {
   "cell_type": "code",
   "execution_count": 81,
   "metadata": {},
   "outputs": [],
   "source": [
    "preds_train = trained_rf_all.predict(X_train)\n",
    "preds_test = trained_rf_all.predict(X_test)\n",
    "\n",
    "pred_prob_train = trained_rf_all.predict_proba(X_train)[:,1]\n",
    "pred_prob_test = trained_rf_all.predict_proba(X_test)[:,1]"
   ]
  },
  {
   "cell_type": "code",
   "execution_count": 82,
   "metadata": {},
   "outputs": [
    {
     "name": "stdout",
     "output_type": "stream",
     "text": [
      "Accuracy in the train dataset: 0.9192756730998333\n",
      "Accuracy in the test dataset: 0.9093840338003113\n",
      "Classification report on train dataset: \n",
      "               precision    recall  f1-score   support\n",
      "\n",
      "           0       0.98      0.93      0.95     19211\n",
      "           1       0.51      0.82      0.63      1774\n",
      "\n",
      "    accuracy                           0.92     20985\n",
      "   macro avg       0.75      0.87      0.79     20985\n",
      "weighted avg       0.94      0.92      0.93     20985\n",
      "\n",
      "Classification report on test dataset: \n",
      "               precision    recall  f1-score   support\n",
      "\n",
      "           0       0.97      0.92      0.95      8179\n",
      "           1       0.50      0.76      0.60       815\n",
      "\n",
      "    accuracy                           0.91      8994\n",
      "   macro avg       0.74      0.84      0.78      8994\n",
      "weighted avg       0.93      0.91      0.92      8994\n",
      "\n"
     ]
    }
   ],
   "source": [
    "accuracy_train_rf_all = metrics.accuracy_score(y_train, preds_train)\n",
    "accuracy_test_rf_all = metrics.accuracy_score(y_test, preds_test)\n",
    "\n",
    "print('Accuracy in the train dataset:', accuracy_train_rf_all)\n",
    "print('Accuracy in the test dataset:', accuracy_test_rf_all)\n",
    "\n",
    "print('Classification report on train dataset:', '\\n', classification_report(y_train, preds_train))\n",
    "print('Classification report on test dataset:', '\\n', classification_report(y_test, preds_test))"
   ]
  },
  {
   "cell_type": "code",
   "execution_count": 83,
   "metadata": {},
   "outputs": [
    {
     "name": "stdout",
     "output_type": "stream",
     "text": [
      "ROC AUC in train dataset 0.9543302916751295\n"
     ]
    },
    {
     "data": {
      "text/plain": [
       "<matplotlib.legend.Legend at 0x1590d6ddeb8>"
      ]
     },
     "execution_count": 83,
     "metadata": {},
     "output_type": "execute_result"
    },
    {
     "data": {
      "image/png": "[encoded data removed]",
      "text/plain": [
       "<Figure size 432x288 with 1 Axes>"
      ]
     },
     "metadata": {
      "needs_background": "light"
     },
     "output_type": "display_data"
    }
   ],
   "source": [
    "#ROC in train dataset\n",
    "fpr, tpr, threshold = metrics.roc_curve(y_train, pred_prob_train)\n",
    "auc_train_rf_all = metrics.auc(fpr, tpr)\n",
    "print(\"ROC AUC in train dataset\", auc_train_rf_all)\n",
    "plt.plot(fpr, tpr, label = \"train, auc=\" + str(auc_train_rf_all))\n",
    "plt.legend(loc = 4)"
   ]
  },
  {
   "cell_type": "code",
   "execution_count": 84,
   "metadata": {
    "scrolled": true
   },
   "outputs": [
    {
     "name": "stdout",
     "output_type": "stream",
     "text": [
      "ROC AUC in test dataset 0.9303610848371973\n"
     ]
    },
    {
     "data": {
      "text/plain": [
       "<matplotlib.legend.Legend at 0x1590e748b38>"
      ]
     },
     "execution_count": 84,
     "metadata": {},
     "output_type": "execute_result"
    },
    {
     "data": {
      "image/png": "[encoded data removed]",
      "text/plain": [
       "<Figure size 432x288 with 1 Axes>"
      ]
     },
     "metadata": {
      "needs_background": "light"
     },
     "output_type": "display_data"
    }
   ],
   "source": [
    "#ROC in test dataset\n",
    "fpr, tpr, threshold = metrics.roc_curve(y_test, pred_prob_test)\n",
    "auc_test_rf_all = metrics.auc(fpr, tpr)\n",
    "print(\"ROC AUC in test dataset\", auc_test_rf_all)\n",
    "plt.plot(fpr, tpr, label = \"test, auc=\" + str(auc_test_rf_all))\n",
    "plt.legend(loc = 4)"
   ]
  },
  {
   "cell_type": "markdown",
   "metadata": {},
   "source": [
    "#### Naive Bayes"
   ]
  },
  {
   "cell_type": "code",
   "execution_count": 85,
   "metadata": {},
   "outputs": [
    {
     "name": "stdout",
     "output_type": "stream",
     "text": [
      "Accuracy in the train dataset: 0.9062187276626161\n",
      "Accuracy in the test dataset: 0.9084945519235046\n",
      "Classification report on train dataset: \n",
      "               precision    recall  f1-score   support\n",
      "\n",
      "           0       0.94      0.96      0.95     19183\n",
      "           1       0.44      0.33      0.38      1802\n",
      "\n",
      "    accuracy                           0.91     20985\n",
      "   macro avg       0.69      0.65      0.66     20985\n",
      "weighted avg       0.90      0.91      0.90     20985\n",
      "\n",
      "Classification report on test dataset: \n",
      "               precision    recall  f1-score   support\n",
      "\n",
      "           0       0.94      0.96      0.95      8207\n",
      "           1       0.47      0.34      0.40       787\n",
      "\n",
      "    accuracy                           0.91      8994\n",
      "   macro avg       0.70      0.65      0.67      8994\n",
      "weighted avg       0.90      0.91      0.90      8994\n",
      "\n"
     ]
    }
   ],
   "source": [
    "from sklearn.naive_bayes import MultinomialNB\n",
    "from sklearn.preprocessing import MinMaxScaler\n",
    "\n",
    "Minmaxscaler = MinMaxScaler()\n",
    "X_scaled = Minmaxscaler.fit_transform(X)\n",
    "\n",
    "X_train_mnb, X_test_mnb, y_train_mnb, y_test_mnb = train_test_split(X_scaled, y, train_size=0.7, test_size=0.3, random_state=50)\n",
    "\n",
    "mnb = MultinomialNB(alpha = 0, fit_prior= True)\n",
    "\n",
    "mnb.fit(X_train_mnb,y_train_mnb)\n",
    "\n",
    "preds_train_mnb = mnb.predict(X_train_mnb)\n",
    "preds_test_mnb = mnb.predict(X_test_mnb)\n",
    "\n",
    "accuracy_train = metrics.accuracy_score(y_train_mnb, preds_train_mnb)\n",
    "accuracy_test = metrics.accuracy_score(y_test_mnb, preds_test_mnb)\n",
    "\n",
    "print('Accuracy in the train dataset:', accuracy_train)\n",
    "print('Accuracy in the test dataset:', accuracy_test)\n",
    "\n",
    "print('Classification report on train dataset:', '\\n', classification_report(y_train_mnb, preds_train_mnb))\n",
    "print('Classification report on test dataset:', '\\n', classification_report(y_test_mnb, preds_test_mnb))"
   ]
  },
  {
   "cell_type": "code",
   "execution_count": 86,
   "metadata": {},
   "outputs": [
    {
     "name": "stdout",
     "output_type": "stream",
     "text": [
      "ROC AUC: 0.6452590688099428\n"
     ]
    },
    {
     "data": {
      "text/plain": [
       "<matplotlib.legend.Legend at 0x1590ccb0748>"
      ]
     },
     "execution_count": 86,
     "metadata": {},
     "output_type": "execute_result"
    },
    {
     "data": {
      "image/png": "[encoded data removed]",
      "text/plain": [
       "<Figure size 432x288 with 1 Axes>"
      ]
     },
     "metadata": {
      "needs_background": "light"
     },
     "output_type": "display_data"
    }
   ],
   "source": [
    "fpr, tpr, threshold = metrics.roc_curve(y_train_mnb, preds_train_mnb)\n",
    "roc_auc = metrics.auc(fpr, tpr)\n",
    "\n",
    "print('ROC AUC:', roc_auc)\n",
    "plt.plot(fpr,tpr,label=\"train, auc=\"+str(roc_auc))\n",
    "plt.legend(loc = 4)"
   ]
  },
  {
   "cell_type": "code",
   "execution_count": 87,
   "metadata": {},
   "outputs": [
    {
     "name": "stdout",
     "output_type": "stream",
     "text": [
      "ROC AUC: 0.652894861965078\n"
     ]
    },
    {
     "data": {
      "text/plain": [
       "<matplotlib.legend.Legend at 0x15906d02278>"
      ]
     },
     "execution_count": 87,
     "metadata": {},
     "output_type": "execute_result"
    },
    {
     "data": {
      "image/png": "[encoded data removed]",
      "text/plain": [
       "<Figure size 432x288 with 1 Axes>"
      ]
     },
     "metadata": {
      "needs_background": "light"
     },
     "output_type": "display_data"
    }
   ],
   "source": [
    "fpr, tpr, threshold = metrics.roc_curve(y_test_mnb, preds_test_mnb)\n",
    "roc_auc = metrics.auc(fpr, tpr)\n",
    "\n",
    "print('ROC AUC:', roc_auc)\n",
    "plt.plot(fpr,tpr,label=\"test, auc=\"+str(roc_auc))\n",
    "plt.legend(loc = 4)"
   ]
  },
  {
   "cell_type": "markdown",
   "metadata": {},
   "source": [
    "#### XGBoost with all features"
   ]
  },
  {
   "cell_type": "code",
   "execution_count": 88,
   "metadata": {},
   "outputs": [],
   "source": [
    "xgboost = xgb.XGBClassifier(n_estimators=1000, learning_rate=0.001, n_jobs=-1, max_depth=6, colsample_bytree=1, gamma=0.1,\n",
    "                            cv = None, scoring='f1_weighted', reg_alpha=0, reg_lambda=1, eval_metric='auc',\n",
    "                           objective='binary:hinge', booster = 'gbtree', tree_method = 'exact', min_child_weight = 15)\n",
    "\n",
    "xgb_model = xgboost.fit(X_train, y_train)"
   ]
  },
  {
   "cell_type": "code",
   "execution_count": 89,
   "metadata": {},
   "outputs": [
    {
     "name": "stdout",
     "output_type": "stream",
     "text": [
      "Accuracy in the train dataset: 0.9396711937097927\n",
      "Accuracy in the test dataset: 0.926840115632644\n",
      "Classification report on train dataset: \n",
      "               precision    recall  f1-score   support\n",
      "\n",
      "           0       0.97      0.96      0.97     19211\n",
      "           1       0.62      0.73      0.67      1774\n",
      "\n",
      "    accuracy                           0.94     20985\n",
      "   macro avg       0.80      0.84      0.82     20985\n",
      "weighted avg       0.94      0.94      0.94     20985\n",
      "\n",
      "Classification report on test dataset: \n",
      "               precision    recall  f1-score   support\n",
      "\n",
      "           0       0.97      0.95      0.96      8179\n",
      "           1       0.58      0.67      0.62       815\n",
      "\n",
      "    accuracy                           0.93      8994\n",
      "   macro avg       0.78      0.81      0.79      8994\n",
      "weighted avg       0.93      0.93      0.93      8994\n",
      "\n"
     ]
    }
   ],
   "source": [
    "preds_train = xgb_model.predict(X_train)\n",
    "preds_test = xgb_model.predict(X_test)\n",
    "\n",
    "accuracy_train = metrics.accuracy_score(y_train, preds_train)\n",
    "accuracy_test = metrics.accuracy_score(y_test, preds_test)\n",
    "\n",
    "print('Accuracy in the train dataset:', accuracy_train)\n",
    "print('Accuracy in the test dataset:', accuracy_test)\n",
    "\n",
    "print('Classification report on train dataset:', '\\n', classification_report(y_train, preds_train))\n",
    "print('Classification report on test dataset:', '\\n', classification_report(y_test, preds_test))"
   ]
  },
  {
   "cell_type": "code",
   "execution_count": 90,
   "metadata": {},
   "outputs": [
    {
     "name": "stdout",
     "output_type": "stream",
     "text": [
      "ROC AUC in train dataset 0.8439996620923151\n"
     ]
    },
    {
     "data": {
      "text/plain": [
       "<matplotlib.legend.Legend at 0x1594152cbe0>"
      ]
     },
     "execution_count": 90,
     "metadata": {},
     "output_type": "execute_result"
    },
    {
     "data": {
      "image/png": "[encoded data removed]",
      "text/plain": [
       "<Figure size 432x288 with 1 Axes>"
      ]
     },
     "metadata": {
      "needs_background": "light"
     },
     "output_type": "display_data"
    }
   ],
   "source": [
    "#ROC in train dataset\n",
    "fpr, tpr, threshold = metrics.roc_curve(y_train, preds_train)\n",
    "auc = metrics.auc(fpr, tpr)\n",
    "print(\"ROC AUC in train dataset\", auc)\n",
    "plt.plot(fpr, tpr, label = \"train, auc=\" + str(auc))\n",
    "plt.legend(loc = 4)"
   ]
  },
  {
   "cell_type": "code",
   "execution_count": 91,
   "metadata": {},
   "outputs": [
    {
     "name": "stdout",
     "output_type": "stream",
     "text": [
      "ROC AUC in train dataset 0.8106365471351517\n"
     ]
    },
    {
     "data": {
      "text/plain": [
       "<matplotlib.legend.Legend at 0x15906e79438>"
      ]
     },
     "execution_count": 91,
     "metadata": {},
     "output_type": "execute_result"
    },
    {
     "data": {
      "image/png": "[encoded data removed]",
      "text/plain": [
       "<Figure size 432x288 with 1 Axes>"
      ]
     },
     "metadata": {
      "needs_background": "light"
     },
     "output_type": "display_data"
    }
   ],
   "source": [
    "#ROC in train dataset\n",
    "fpr, tpr, threshold = metrics.roc_curve(y_test, preds_test)\n",
    "auc = metrics.auc(fpr, tpr)\n",
    "print(\"ROC AUC in train dataset\", auc)\n",
    "plt.plot(fpr, tpr, label = \"test, auc=\" + str(auc))\n",
    "plt.legend(loc = 4)"
   ]
  },
  {
   "cell_type": "markdown",
   "metadata": {},
   "source": [
    "## Conclusion"
   ]
  },
  {
   "cell_type": "markdown",
   "metadata": {},
   "source": [
    "* We have attempted different learning algorithms: logistic regression, random forest classifier (with PCA and with all the features), XGBoost, Naive Bayes\n",
    "* From our model building we can infer that the **Random Forest Classifier** with all the features is the **best candidate**\n",
    "* XGBoost also performs well but not as good as random forest classifier with all the features"
   ]
  },
  {
   "cell_type": "code",
   "execution_count": 92,
   "metadata": {},
   "outputs": [
    {
     "name": "stdout",
     "output_type": "stream",
     "text": [
      "Accuracy in the train dataset: 0.9192756730998333\n",
      "Accuracy in the test dataset: 0.9093840338003113\n",
      "ROC AUC in train dataset: 0.9543302916751295\n",
      "ROC AUC in test dataset: 0.9303610848371973\n"
     ]
    }
   ],
   "source": [
    "print('Accuracy in the train dataset:', accuracy_train_rf_all)\n",
    "print('Accuracy in the test dataset:', accuracy_test_rf_all)\n",
    "print(\"ROC AUC in train dataset:\", auc_train_rf_all)\n",
    "print(\"ROC AUC in test dataset:\", auc_test_rf_all)"
   ]
  },
  {
   "cell_type": "code",
   "execution_count": 93,
   "metadata": {},
   "outputs": [
    {
     "data": {
      "text/html": [
       "<div>\n",
       "<style scoped>\n",
       "    .dataframe tbody tr th:only-of-type {\n",
       "        vertical-align: middle;\n",
       "    }\n",
       "\n",
       "    .dataframe tbody tr th {\n",
       "        vertical-align: top;\n",
       "    }\n",
       "\n",
       "    .dataframe thead th {\n",
       "        text-align: right;\n",
       "    }\n",
       "</style>\n",
       "<table border=\"1\" class=\"dataframe\">\n",
       "  <thead>\n",
       "    <tr style=\"text-align: right;\">\n",
       "      <th></th>\n",
       "      <th>col_name</th>\n",
       "      <th>importance</th>\n",
       "    </tr>\n",
       "  </thead>\n",
       "  <tbody>\n",
       "    <tr>\n",
       "      <th>0</th>\n",
       "      <td>0.103987</td>\n",
       "      <td>total_ic_mou_8</td>\n",
       "    </tr>\n",
       "    <tr>\n",
       "      <th>1</th>\n",
       "      <td>0.086296</td>\n",
       "      <td>total_og_mou_8</td>\n",
       "    </tr>\n",
       "    <tr>\n",
       "      <th>2</th>\n",
       "      <td>0.081720</td>\n",
       "      <td>total_rech_amt_8</td>\n",
       "    </tr>\n",
       "    <tr>\n",
       "      <th>3</th>\n",
       "      <td>0.066080</td>\n",
       "      <td>last_day_rch_amt_8</td>\n",
       "    </tr>\n",
       "    <tr>\n",
       "      <th>4</th>\n",
       "      <td>0.061477</td>\n",
       "      <td>arpu_8</td>\n",
       "    </tr>\n",
       "    <tr>\n",
       "      <th>5</th>\n",
       "      <td>0.046090</td>\n",
       "      <td>loc_ic_t2m_mou_8</td>\n",
       "    </tr>\n",
       "    <tr>\n",
       "      <th>6</th>\n",
       "      <td>0.041174</td>\n",
       "      <td>roam_og_mou_8</td>\n",
       "    </tr>\n",
       "    <tr>\n",
       "      <th>7</th>\n",
       "      <td>0.039892</td>\n",
       "      <td>loc_ic_mou_8</td>\n",
       "    </tr>\n",
       "    <tr>\n",
       "      <th>8</th>\n",
       "      <td>0.038082</td>\n",
       "      <td>date_of_last_rech_8</td>\n",
       "    </tr>\n",
       "    <tr>\n",
       "      <th>9</th>\n",
       "      <td>0.037043</td>\n",
       "      <td>loc_og_mou_8</td>\n",
       "    </tr>\n",
       "    <tr>\n",
       "      <th>10</th>\n",
       "      <td>0.034155</td>\n",
       "      <td>roam_ic_mou_8</td>\n",
       "    </tr>\n",
       "    <tr>\n",
       "      <th>11</th>\n",
       "      <td>0.031504</td>\n",
       "      <td>max_rech_amt_8</td>\n",
       "    </tr>\n",
       "    <tr>\n",
       "      <th>12</th>\n",
       "      <td>0.029032</td>\n",
       "      <td>loc_ic_t2t_mou_8</td>\n",
       "    </tr>\n",
       "    <tr>\n",
       "      <th>13</th>\n",
       "      <td>0.026119</td>\n",
       "      <td>loc_og_t2m_mou_8</td>\n",
       "    </tr>\n",
       "    <tr>\n",
       "      <th>14</th>\n",
       "      <td>0.020423</td>\n",
       "      <td>loc_og_t2t_mou_8</td>\n",
       "    </tr>\n",
       "    <tr>\n",
       "      <th>15</th>\n",
       "      <td>0.019204</td>\n",
       "      <td>loc_og_t2f_mou_8</td>\n",
       "    </tr>\n",
       "    <tr>\n",
       "      <th>16</th>\n",
       "      <td>0.014488</td>\n",
       "      <td>loc_ic_t2f_mou_8</td>\n",
       "    </tr>\n",
       "    <tr>\n",
       "      <th>17</th>\n",
       "      <td>0.010365</td>\n",
       "      <td>std_ic_mou_8</td>\n",
       "    </tr>\n",
       "    <tr>\n",
       "      <th>18</th>\n",
       "      <td>0.010161</td>\n",
       "      <td>offnet_mou_8</td>\n",
       "    </tr>\n",
       "    <tr>\n",
       "      <th>19</th>\n",
       "      <td>0.009802</td>\n",
       "      <td>std_ic_t2m_mou_8</td>\n",
       "    </tr>\n",
       "  </tbody>\n",
       "</table>\n",
       "</div>"
      ],
      "text/plain": [
       "    col_name           importance\n",
       "0   0.103987       total_ic_mou_8\n",
       "1   0.086296       total_og_mou_8\n",
       "2   0.081720     total_rech_amt_8\n",
       "3   0.066080   last_day_rch_amt_8\n",
       "4   0.061477               arpu_8\n",
       "5   0.046090     loc_ic_t2m_mou_8\n",
       "6   0.041174        roam_og_mou_8\n",
       "7   0.039892         loc_ic_mou_8\n",
       "8   0.038082  date_of_last_rech_8\n",
       "9   0.037043         loc_og_mou_8\n",
       "10  0.034155        roam_ic_mou_8\n",
       "11  0.031504       max_rech_amt_8\n",
       "12  0.029032     loc_ic_t2t_mou_8\n",
       "13  0.026119     loc_og_t2m_mou_8\n",
       "14  0.020423     loc_og_t2t_mou_8\n",
       "15  0.019204     loc_og_t2f_mou_8\n",
       "16  0.014488     loc_ic_t2f_mou_8\n",
       "17  0.010365         std_ic_mou_8\n",
       "18  0.010161         offnet_mou_8\n",
       "19  0.009802     std_ic_t2m_mou_8"
      ]
     },
     "execution_count": 93,
     "metadata": {},
     "output_type": "execute_result"
    }
   ],
   "source": [
    "#Feature importances\n",
    "importances = trained_rf_all.feature_importances_\n",
    "cols = X.columns\n",
    "\n",
    "sorted_feature_importance = pd.DataFrame(sorted(zip(importances, list(cols)), reverse=True), columns={'col_name','importance'})\n",
    "sorted_feature_importance.head(20) #top 20 features"
   ]
  },
  {
   "cell_type": "markdown",
   "metadata": {},
   "source": [
    "#### Recommendations:\n",
    "* Previous month is really an important factor for churn prediction. For example to predict churn of 9, month 8 is most important month to consider\n",
    "* Total incoming and outgoing minutes (of previous month) of usage are the top two deciding factors. If these two decreases in previous month churning probability also increases\n",
    "* Average revenue per user is the third most important feature. Here also if revenue generating tendency of an user decreases he/she is more likely to churn."
   ]
  },
  {
   "cell_type": "code",
   "execution_count": null,
   "metadata": {},
   "outputs": [],
   "source": []
  }
 ],
 "metadata": {
  "kernelspec": {
   "display_name": "Python 3",
   "language": "python",
   "name": "python3"
  },
  "language_info": {
   "codemirror_mode": {
    "name": "ipython",
    "version": 3
   },
   "file_extension": ".py",
   "mimetype": "text/x-python",
   "name": "python",
   "nbconvert_exporter": "python",
   "pygments_lexer": "ipython3",
   "version": "3.7.1"
  }
 },
 "nbformat": 4,
 "nbformat_minor": 2
}
